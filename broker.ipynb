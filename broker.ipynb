{
 "cells": [
  {
   "cell_type": "code",
   "execution_count": 51,
   "id": "717a4d32",
   "metadata": {},
   "outputs": [
    {
     "name": "stdout",
     "output_type": "stream",
     "text": [
      "Backtesting: 2022-01-01 00:00:00 to 2022-07-01 00:00:00\n",
      "\n",
      "Loading bar data...\n"
     ]
    },
    {
     "name": "stderr",
     "output_type": "stream",
     "text": [
      "[*********************100%***********************]  2 of 2 completed\n"
     ]
    },
    {
     "name": "stdout",
     "output_type": "stream",
     "text": [
      "Loaded bar data: 0:00:07 \n",
      "\n",
      "Computing indicators...\n"
     ]
    },
    {
     "name": "stderr",
     "output_type": "stream",
     "text": [
      "  0% (0 of 2) |                          | Elapsed Time: 0:00:00 ETA:  --:--:--\n",
      " 50% (1 of 2) |#############             | Elapsed Time: 0:00:10 ETA:   0:00:10\n",
      "100% (2 of 2) |##########################| Elapsed Time: 0:00:10 Time:  0:00:10\n"
     ]
    },
    {
     "name": "stdout",
     "output_type": "stream",
     "text": [
      "\n",
      "Test split: 2022-01-03 00:00:00 to 2022-06-30 00:00:00\n"
     ]
    },
    {
     "name": "stderr",
     "output_type": "stream",
     "text": [
      "  0% (0 of 124) |                        | Elapsed Time: 0:00:00 ETA:  --:--:--\n",
      "100% (124 of 124) |######################| Elapsed Time: 0:00:00 Time:  0:00:00\n"
     ]
    },
    {
     "name": "stdout",
     "output_type": "stream",
     "text": [
      "\n",
      "Finished backtest: 0:00:18\n"
     ]
    }
   ],
   "source": [
    "from pybroker import Strategy, YFinance, highest\n",
    "\n",
    "def exec_fn(ctx):\n",
    "   # Get the rolling 10 day high.\n",
    "   high_10d = ctx.indicator('high_10d')\n",
    "   # Buy on a new 10 day high.\n",
    "   if not ctx.long_pos() and high_10d[-1] > high_10d[-2]:\n",
    "      ctx.buy_shares = 100\n",
    "      # Hold the position for 5 days.\n",
    "      ctx.hold_bars = 5\n",
    "      # Set a stop loss of 2%.\n",
    "      ctx.stop_loss_pct = 2\n",
    "\n",
    "strategy = Strategy(YFinance(), start_date='1/1/2022', end_date='7/1/2022')\n",
    "strategy.add_execution(\n",
    "   exec_fn, ['AAPL', 'MSFT'], indicators=highest('high_10d', 'close', period=10))\n",
    "# Run the backtest after 20 days have passed.\n",
    "result = strategy.backtest(warmup=20)"
   ]
  },
  {
   "cell_type": "code",
   "execution_count": 14,
   "id": "d0e8231e",
   "metadata": {},
   "outputs": [
    {
     "name": "stdout",
     "output_type": "stream",
     "text": [
      "Backtesting: 2020-01-01 00:00:00 to 2025-01-01 00:00:00\n",
      "\n",
      "Loaded cached bar data.\n",
      "\n",
      "Test split: 2020-01-02 00:00:00 to 2024-12-31 00:00:00\n"
     ]
    },
    {
     "name": "stderr",
     "output_type": "stream",
     "text": [
      "  0% (0 of 1212) |                       | Elapsed Time: 0:00:00 ETA:  --:--:--\n",
      " 25% (311 of 1212) |#####                | Elapsed Time: 0:00:00 ETA:   0:00:00\n",
      " 62% (761 of 1212) |#############        | Elapsed Time: 0:00:00 ETA:   0:00:00\n",
      " 98% (1191 of 1212) |################### | Elapsed Time: 0:00:00 ETA:   0:00:00\n",
      "100% (1212 of 1212) |####################| Elapsed Time: 0:00:00 Time:  0:00:00\n"
     ]
    },
    {
     "name": "stdout",
     "output_type": "stream",
     "text": [
      "\n",
      "Finished backtest: 0:00:00\n"
     ]
    },
    {
     "data": {
      "text/plain": [
       "[<matplotlib.lines.Line2D at 0x19ce8197750>]"
      ]
     },
     "execution_count": 14,
     "metadata": {},
     "output_type": "execute_result"
    },
    {
     "data": {
      "image/png": "[encoded data removed]",
      "text/plain": [
       "<Figure size 640x480 with 1 Axes>"
      ]
     },
     "metadata": {},
     "output_type": "display_data"
    }
   ],
   "source": [
    "from pybroker.ext.data import AKShare\n",
    "import pybroker\n",
    "from pybroker import Strategy, StrategyConfig\n",
    "import matplotlib.pyplot as plt\n",
    "\n",
    "pybroker.enable_data_source_cache('my_strategy')\n",
    "config = StrategyConfig(initial_cash=500_000)\n",
    "strategy = Strategy(AKShare(), '20200101', '20250101', config)\n",
    "\n",
    "\n",
    "def buy_low(ctx):\n",
    "    # If shares were already purchased and are currently being held, then return.\n",
    "    if ctx.long_pos():\n",
    "        return\n",
    "    # If the latest close price is less than the previous day's low price,\n",
    "    # then place a buy order.\n",
    "    if ctx.bars >= 2 and ctx.close[-1] < ctx.low[-2]:\n",
    "        # Buy a number of shares that is equal to 25% the portfolio.\n",
    "        ctx.buy_shares = ctx.calc_target_shares(0.25)\n",
    "        # Set the limit price of the order.\n",
    "        ctx.buy_limit_price = ctx.close[-1] - 0.01\n",
    "        # Hold the position for 3 bars before liquidating (in this case, 3 days).\n",
    "        ctx.hold_bars = 3\n",
    "\n",
    "strategy.add_execution(buy_low, ['600000.SH'])\n",
    "\n",
    "result = strategy.backtest()\n",
    "\n",
    "\n",
    "chart = plt.subplot2grid((3, 2), (0, 0), rowspan=3, colspan=2)\n",
    "chart.plot(result.portfolio.index, result.portfolio['market_value'])"
   ]
  },
  {
   "cell_type": "code",
   "execution_count": 49,
   "id": "c861dde3",
   "metadata": {},
   "outputs": [
    {
     "name": "stdout",
     "output_type": "stream",
     "text": [
      "Backtesting: 2019-01-01 00:00:00 to 2025-01-01 00:00:00\n",
      "\n",
      "Loaded cached bar data.\n",
      "\n",
      "Test split: 2019-01-02 00:00:00 to 2024-12-31 00:00:00\n"
     ]
    },
    {
     "name": "stderr",
     "output_type": "stream",
     "text": [
      "  0% (0 of 1510) |                       | Elapsed Time: 0:00:00 ETA:  --:--:--\n",
      "  1% (21 of 1510) |                      | Elapsed Time: 0:00:00 ETA:   0:00:05\n",
      "  2% (41 of 1510) |                      | Elapsed Time: 0:00:00 ETA:   0:00:04\n",
      "  4% (61 of 1510) |                      | Elapsed Time: 0:00:00 ETA:   0:00:04\n",
      "  5% (81 of 1510) |#                     | Elapsed Time: 0:00:00 ETA:   0:00:04\n",
      "  8% (121 of 1510) |#                    | Elapsed Time: 0:00:00 ETA:   0:00:03\n",
      "  9% (141 of 1510) |#                    | Elapsed Time: 0:00:00 ETA:   0:00:03\n",
      " 11% (181 of 1510) |##                   | Elapsed Time: 0:00:00 ETA:   0:00:03\n",
      " 13% (211 of 1510) |##                   | Elapsed Time: 0:00:00 ETA:   0:00:03\n",
      " 16% (251 of 1510) |###                  | Elapsed Time: 0:00:00 ETA:   0:00:03\n",
      " 17% (271 of 1510) |###                  | Elapsed Time: 0:00:00 ETA:   0:00:03\n",
      " 20% (311 of 1510) |####                 | Elapsed Time: 0:00:00 ETA:   0:00:03\n",
      " 23% (351 of 1510) |####                 | Elapsed Time: 0:00:00 ETA:   0:00:02\n",
      " 25% (391 of 1510) |#####                | Elapsed Time: 0:00:00 ETA:   0:00:02\n",
      " 27% (411 of 1510) |#####                | Elapsed Time: 0:00:01 ETA:   0:00:02\n",
      " 29% (441 of 1510) |######               | Elapsed Time: 0:00:01 ETA:   0:00:02\n",
      " 31% (481 of 1510) |######               | Elapsed Time: 0:00:01 ETA:   0:00:02\n",
      " 34% (521 of 1510) |#######              | Elapsed Time: 0:00:01 ETA:   0:00:02\n",
      " 37% (561 of 1510) |#######              | Elapsed Time: 0:00:01 ETA:   0:00:02\n",
      " 38% (581 of 1510) |########             | Elapsed Time: 0:00:01 ETA:   0:00:02\n",
      " 41% (621 of 1510) |########             | Elapsed Time: 0:00:01 ETA:   0:00:02\n",
      " 43% (651 of 1510) |#########            | Elapsed Time: 0:00:01 ETA:   0:00:02\n",
      " 45% (691 of 1510) |#########            | Elapsed Time: 0:00:01 ETA:   0:00:02\n",
      " 48% (731 of 1510) |##########           | Elapsed Time: 0:00:01 ETA:   0:00:01\n",
      " 49% (751 of 1510) |##########           | Elapsed Time: 0:00:01 ETA:   0:00:01\n",
      " 51% (771 of 1510) |##########           | Elapsed Time: 0:00:01 ETA:   0:00:01\n",
      " 52% (791 of 1510) |###########          | Elapsed Time: 0:00:01 ETA:   0:00:01\n",
      " 53% (811 of 1510) |###########          | Elapsed Time: 0:00:02 ETA:   0:00:01\n",
      " 55% (831 of 1510) |###########          | Elapsed Time: 0:00:02 ETA:   0:00:01\n",
      " 56% (851 of 1510) |###########          | Elapsed Time: 0:00:02 ETA:   0:00:01\n",
      " 58% (881 of 1510) |############         | Elapsed Time: 0:00:02 ETA:   0:00:01\n",
      " 59% (901 of 1510) |############         | Elapsed Time: 0:00:02 ETA:   0:00:01\n",
      " 60% (921 of 1510) |############         | Elapsed Time: 0:00:02 ETA:   0:00:01\n",
      " 63% (961 of 1510) |#############        | Elapsed Time: 0:00:02 ETA:   0:00:01\n",
      " 64% (981 of 1510) |#############        | Elapsed Time: 0:00:02 ETA:   0:00:01\n",
      " 67% (1021 of 1510) |#############       | Elapsed Time: 0:00:02 ETA:   0:00:01\n",
      " 68% (1041 of 1510) |#############       | Elapsed Time: 0:00:02 ETA:   0:00:01\n",
      " 70% (1061 of 1510) |##############      | Elapsed Time: 0:00:02 ETA:   0:00:01\n",
      " 72% (1091 of 1510) |##############      | Elapsed Time: 0:00:02 ETA:   0:00:01\n",
      " 74% (1131 of 1510) |##############      | Elapsed Time: 0:00:02 ETA:   0:00:00\n",
      " 77% (1171 of 1510) |###############     | Elapsed Time: 0:00:02 ETA:   0:00:00\n",
      " 80% (1211 of 1510) |################    | Elapsed Time: 0:00:03 ETA:   0:00:00\n",
      " 81% (1231 of 1510) |################    | Elapsed Time: 0:00:03 ETA:   0:00:00\n",
      " 82% (1251 of 1510) |################    | Elapsed Time: 0:00:03 ETA:   0:00:00\n",
      " 84% (1281 of 1510) |################    | Elapsed Time: 0:00:03 ETA:   0:00:00\n",
      " 87% (1321 of 1510) |#################   | Elapsed Time: 0:00:03 ETA:   0:00:00\n",
      " 88% (1341 of 1510) |#################   | Elapsed Time: 0:00:03 ETA:   0:00:00\n",
      " 91% (1381 of 1510) |##################  | Elapsed Time: 0:00:03 ETA:   0:00:00\n",
      " 94% (1421 of 1510) |##################  | Elapsed Time: 0:00:03 ETA:   0:00:00\n",
      " 96% (1461 of 1510) |################### | Elapsed Time: 0:00:03 ETA:   0:00:00\n",
      " 98% (1481 of 1510) |################### | Elapsed Time: 0:00:03 ETA:   0:00:00\n",
      "100% (1510 of 1510) |####################| Elapsed Time: 0:00:03 ETA:  00:00:00\n",
      "100% (1510 of 1510) |####################| Elapsed Time: 0:00:03 Time:  0:00:03\n"
     ]
    },
    {
     "name": "stdout",
     "output_type": "stream",
     "text": [
      "\n",
      "Finished backtest: 0:00:04\n"
     ]
    },
    {
     "data": {
      "text/plain": [
       "[<matplotlib.lines.Line2D at 0x19ceed66b50>]"
      ]
     },
     "execution_count": 49,
     "metadata": {},
     "output_type": "execute_result"
    },
    {
     "data": {
      "image/png": "[encoded data removed]",
      "text/plain": [
       "<Figure size 640x480 with 1 Axes>"
      ]
     },
     "metadata": {},
     "output_type": "display_data"
    }
   ],
   "source": [
    "import pybroker as pyb\n",
    "from datetime import datetime\n",
    "from pybroker import ExecContext, Strategy, YFinance\n",
    "import matplotlib.pyplot as plt\n",
    "\n",
    "pyb.enable_data_source_cache('rebalancing')\n",
    "\n",
    "def start_of_month(ctxs: dict[str, ExecContext]) -> bool:\n",
    "    dt = tuple(ctxs.values())[0].dt\n",
    "    if dt.month != pyb.param('current_month'):\n",
    "        pyb.param('current_month', dt.month)\n",
    "        return True\n",
    "    return False\n",
    "\n",
    "def start_of_year(ctxs: dict[str, ExecContext]) -> bool:\n",
    "    dt = tuple(ctxs.values())[0].dt\n",
    "    if dt.year != pyb.param('current_year'):\n",
    "        pyb.param('current_year', dt.year)\n",
    "        return True\n",
    "    return False\n",
    "\n",
    "def set_target_shares(\n",
    "    ctxs: dict[str, ExecContext],\n",
    "    targets: dict[str, float]\n",
    "):\n",
    "    for symbol, target in targets.items():\n",
    "        ctx = ctxs[symbol]\n",
    "        target_shares = ctx.calc_target_shares(target)\n",
    "        pos = ctx.long_pos()\n",
    "        if pos is None:\n",
    "            ctx.buy_shares = target_shares\n",
    "        elif pos.shares < target_shares:\n",
    "            ctx.buy_shares = target_shares - pos.shares\n",
    "        elif pos.shares > target_shares:\n",
    "            ctx.sell_shares = pos.shares - target_shares\n",
    "\n",
    "def rebalance(ctxs: dict[str, ExecContext]):\n",
    "    if start_of_year(ctxs):\n",
    "        target = 1 / len(ctxs)\n",
    "        set_target_shares(ctxs, {symbol: target for symbol in ctxs.keys()})\n",
    "\n",
    "strategy = Strategy(YFinance(), start_date='1/1/2019', end_date='1/1/2025')\n",
    "\n",
    "strategy.add_execution(None, ['TSLA', 'AAPL', 'NVDA', 'AMZN','GOOG','MSFT','META'])\n",
    "\n",
    "\n",
    "# strategy.add_execution(None, ['MOAT', 'PFF', 'VNQ', 'RSP'])\n",
    "# strategy.add_execution(None, ['TSLA', 'NFLX', 'AAPL', 'NVDA', 'AMZN'])\n",
    "\n",
    "# strategy.add_execution(None, ['MOAT', 'PFF', 'VNQ', 'RSP', 'TSLA', 'NFLX', 'AAPL', 'NVDA', 'AMZN'])\n",
    "\n",
    "strategy.set_after_exec(rebalance)\n",
    "result = strategy.backtest()    \n",
    "\n",
    "result.orders.to_csv(\"./data/broker_orders.csv\")\n",
    "result.metrics_df.to_csv(\"./data/broker_metrices_df.csv\")\n",
    "result.portfolio.to_csv(\"./data/broker_portfolio.csv\")\n",
    "\n",
    "\n",
    "chart = plt.subplot2grid((3, 2), (0, 0), rowspan=3, colspan=2)\n",
    "chart.plot(result.portfolio.index, result.portfolio['market_value'])\n"
   ]
  },
  {
   "cell_type": "code",
   "execution_count": 55,
   "id": "892ddd46",
   "metadata": {},
   "outputs": [
    {
     "name": "stdout",
     "output_type": "stream",
     "text": [
      "Backtesting: 2023-01-01 00:00:00 to 2025-01-01 00:00:00\n",
      "\n",
      "Loading bar data...\n",
      "Loaded bar data: 0:00:00 \n",
      "\n"
     ]
    },
    {
     "ename": "ValueError",
     "evalue": "DataSource is empty.",
     "output_type": "error",
     "traceback": [
      "\u001b[1;31m---------------------------------------------------------------------------\u001b[0m",
      "\u001b[1;31mValueError\u001b[0m                                Traceback (most recent call last)",
      "Cell \u001b[1;32mIn[55], line 57\u001b[0m\n\u001b[0;32m     51\u001b[0m \u001b[38;5;66;03m# strategy.add_execution(None, ['MOAT', 'PFF', 'VNQ', 'RSP'])\u001b[39;00m\n\u001b[0;32m     52\u001b[0m \u001b[38;5;66;03m# strategy.add_execution(None, ['TSLA', 'NFLX', 'AAPL', 'NVDA', 'AMZN'])\u001b[39;00m\n\u001b[0;32m     53\u001b[0m \n\u001b[0;32m     54\u001b[0m \u001b[38;5;66;03m# strategy.add_execution(None, ['MOAT', 'PFF', 'VNQ', 'RSP', 'TSLA', 'NFLX', 'AAPL', 'NVDA', 'AMZN'])\u001b[39;00m\n\u001b[0;32m     56\u001b[0m strategy\u001b[38;5;241m.\u001b[39mset_after_exec(rebalance)\n\u001b[1;32m---> 57\u001b[0m result \u001b[38;5;241m=\u001b[39m \u001b[43mstrategy\u001b[49m\u001b[38;5;241;43m.\u001b[39;49m\u001b[43mbacktest\u001b[49m\u001b[43m(\u001b[49m\u001b[43m)\u001b[49m    \n\u001b[0;32m     59\u001b[0m \u001b[38;5;28mprint\u001b[39m(result\u001b[38;5;241m.\u001b[39mmetrics_df)\n\u001b[0;32m     60\u001b[0m \u001b[38;5;28mprint\u001b[39m(result\u001b[38;5;241m.\u001b[39mportfolio)\n",
      "File \u001b[1;32mc:\\python\\Pandas-Cookbook-Third-Edition\\venv\\Lib\\site-packages\\pybroker\\strategy.py:1097\u001b[0m, in \u001b[0;36mStrategy.backtest\u001b[1;34m(self, start_date, end_date, timeframe, between_time, days, lookahead, train_size, shuffle, calc_bootstrap, disable_parallel, warmup, portfolio, adjust)\u001b[0m\n\u001b[0;32m   1025\u001b[0m \u001b[38;5;28;01mdef\u001b[39;00m\u001b[38;5;250m \u001b[39m\u001b[38;5;21mbacktest\u001b[39m(\n\u001b[0;32m   1026\u001b[0m     \u001b[38;5;28mself\u001b[39m,\n\u001b[0;32m   1027\u001b[0m     start_date: Optional[Union[\u001b[38;5;28mstr\u001b[39m, datetime]] \u001b[38;5;241m=\u001b[39m \u001b[38;5;28;01mNone\u001b[39;00m,\n\u001b[1;32m   (...)\u001b[0m\n\u001b[0;32m   1039\u001b[0m     adjust: Optional[Any] \u001b[38;5;241m=\u001b[39m \u001b[38;5;28;01mNone\u001b[39;00m,\n\u001b[0;32m   1040\u001b[0m ) \u001b[38;5;241m-\u001b[39m\u001b[38;5;241m>\u001b[39m TestResult:\n\u001b[0;32m   1041\u001b[0m \u001b[38;5;250m    \u001b[39m\u001b[38;5;124;03m\"\"\"Backtests the trading strategy by running executions that were added\u001b[39;00m\n\u001b[0;32m   1042\u001b[0m \u001b[38;5;124;03m    with :meth:`.add_execution`.\u001b[39;00m\n\u001b[0;32m   1043\u001b[0m \n\u001b[1;32m   (...)\u001b[0m\n\u001b[0;32m   1095\u001b[0m \u001b[38;5;124;03m        history, and evaluation metrics.\u001b[39;00m\n\u001b[0;32m   1096\u001b[0m \u001b[38;5;124;03m    \"\"\"\u001b[39;00m\n\u001b[1;32m-> 1097\u001b[0m     \u001b[38;5;28;01mreturn\u001b[39;00m \u001b[38;5;28;43mself\u001b[39;49m\u001b[38;5;241;43m.\u001b[39;49m\u001b[43mwalkforward\u001b[49m\u001b[43m(\u001b[49m\n\u001b[0;32m   1098\u001b[0m \u001b[43m        \u001b[49m\u001b[43mwindows\u001b[49m\u001b[38;5;241;43m=\u001b[39;49m\u001b[38;5;241;43m1\u001b[39;49m\u001b[43m,\u001b[49m\n\u001b[0;32m   1099\u001b[0m \u001b[43m        \u001b[49m\u001b[43mlookahead\u001b[49m\u001b[38;5;241;43m=\u001b[39;49m\u001b[43mlookahead\u001b[49m\u001b[43m,\u001b[49m\n\u001b[0;32m   1100\u001b[0m \u001b[43m        \u001b[49m\u001b[43mstart_date\u001b[49m\u001b[38;5;241;43m=\u001b[39;49m\u001b[43mstart_date\u001b[49m\u001b[43m,\u001b[49m\n\u001b[0;32m   1101\u001b[0m \u001b[43m        \u001b[49m\u001b[43mend_date\u001b[49m\u001b[38;5;241;43m=\u001b[39;49m\u001b[43mend_date\u001b[49m\u001b[43m,\u001b[49m\n\u001b[0;32m   1102\u001b[0m \u001b[43m        \u001b[49m\u001b[43mtimeframe\u001b[49m\u001b[38;5;241;43m=\u001b[39;49m\u001b[43mtimeframe\u001b[49m\u001b[43m,\u001b[49m\n\u001b[0;32m   1103\u001b[0m \u001b[43m        \u001b[49m\u001b[43mbetween_time\u001b[49m\u001b[38;5;241;43m=\u001b[39;49m\u001b[43mbetween_time\u001b[49m\u001b[43m,\u001b[49m\n\u001b[0;32m   1104\u001b[0m \u001b[43m        \u001b[49m\u001b[43mdays\u001b[49m\u001b[38;5;241;43m=\u001b[39;49m\u001b[43mdays\u001b[49m\u001b[43m,\u001b[49m\n\u001b[0;32m   1105\u001b[0m \u001b[43m        \u001b[49m\u001b[43mtrain_size\u001b[49m\u001b[38;5;241;43m=\u001b[39;49m\u001b[43mtrain_size\u001b[49m\u001b[43m,\u001b[49m\n\u001b[0;32m   1106\u001b[0m \u001b[43m        \u001b[49m\u001b[43mshuffle\u001b[49m\u001b[38;5;241;43m=\u001b[39;49m\u001b[43mshuffle\u001b[49m\u001b[43m,\u001b[49m\n\u001b[0;32m   1107\u001b[0m \u001b[43m        \u001b[49m\u001b[43mcalc_bootstrap\u001b[49m\u001b[38;5;241;43m=\u001b[39;49m\u001b[43mcalc_bootstrap\u001b[49m\u001b[43m,\u001b[49m\n\u001b[0;32m   1108\u001b[0m \u001b[43m        \u001b[49m\u001b[43mdisable_parallel\u001b[49m\u001b[38;5;241;43m=\u001b[39;49m\u001b[43mdisable_parallel\u001b[49m\u001b[43m,\u001b[49m\n\u001b[0;32m   1109\u001b[0m \u001b[43m        \u001b[49m\u001b[43mwarmup\u001b[49m\u001b[38;5;241;43m=\u001b[39;49m\u001b[43mwarmup\u001b[49m\u001b[43m,\u001b[49m\n\u001b[0;32m   1110\u001b[0m \u001b[43m        \u001b[49m\u001b[43mportfolio\u001b[49m\u001b[38;5;241;43m=\u001b[39;49m\u001b[43mportfolio\u001b[49m\u001b[43m,\u001b[49m\n\u001b[0;32m   1111\u001b[0m \u001b[43m        \u001b[49m\u001b[43madjust\u001b[49m\u001b[38;5;241;43m=\u001b[39;49m\u001b[43madjust\u001b[49m\u001b[43m,\u001b[49m\n\u001b[0;32m   1112\u001b[0m \u001b[43m    \u001b[49m\u001b[43m)\u001b[49m\n",
      "File \u001b[1;32mc:\\python\\Pandas-Cookbook-Third-Edition\\venv\\Lib\\site-packages\\pybroker\\strategy.py:1221\u001b[0m, in \u001b[0;36mStrategy.walkforward\u001b[1;34m(self, windows, lookahead, start_date, end_date, timeframe, between_time, days, train_size, shuffle, calc_bootstrap, disable_parallel, warmup, portfolio, adjust)\u001b[0m\n\u001b[0;32m   1219\u001b[0m     verify_date_range(start_dt, end_dt)\n\u001b[0;32m   1220\u001b[0m \u001b[38;5;28mself\u001b[39m\u001b[38;5;241m.\u001b[39m_logger\u001b[38;5;241m.\u001b[39mwalkforward_start(start_dt, end_dt)\n\u001b[1;32m-> 1221\u001b[0m df \u001b[38;5;241m=\u001b[39m \u001b[38;5;28;43mself\u001b[39;49m\u001b[38;5;241;43m.\u001b[39;49m\u001b[43m_fetch_data\u001b[49m\u001b[43m(\u001b[49m\u001b[43mtimeframe\u001b[49m\u001b[43m,\u001b[49m\u001b[43m \u001b[49m\u001b[43madjust\u001b[49m\u001b[43m)\u001b[49m\n\u001b[0;32m   1222\u001b[0m day_ids \u001b[38;5;241m=\u001b[39m \u001b[38;5;28mself\u001b[39m\u001b[38;5;241m.\u001b[39m_to_day_ids(days)\n\u001b[0;32m   1223\u001b[0m df \u001b[38;5;241m=\u001b[39m \u001b[38;5;28mself\u001b[39m\u001b[38;5;241m.\u001b[39m_filter_dates(\n\u001b[0;32m   1224\u001b[0m     df\u001b[38;5;241m=\u001b[39mdf,\n\u001b[0;32m   1225\u001b[0m     start_date\u001b[38;5;241m=\u001b[39mstart_dt,\n\u001b[1;32m   (...)\u001b[0m\n\u001b[0;32m   1228\u001b[0m     days\u001b[38;5;241m=\u001b[39mday_ids,\n\u001b[0;32m   1229\u001b[0m )\n",
      "File \u001b[1;32mc:\\python\\Pandas-Cookbook-Third-Edition\\venv\\Lib\\site-packages\\pybroker\\strategy.py:1466\u001b[0m, in \u001b[0;36mStrategy._fetch_data\u001b[1;34m(self, timeframe, adjust)\u001b[0m\n\u001b[0;32m   1464\u001b[0m     df \u001b[38;5;241m=\u001b[39m df[df[DataCol\u001b[38;5;241m.\u001b[39mSYMBOL\u001b[38;5;241m.\u001b[39mvalue]\u001b[38;5;241m.\u001b[39misin(unique_syms)]\n\u001b[0;32m   1465\u001b[0m \u001b[38;5;28;01mif\u001b[39;00m df\u001b[38;5;241m.\u001b[39mempty:\n\u001b[1;32m-> 1466\u001b[0m     \u001b[38;5;28;01mraise\u001b[39;00m \u001b[38;5;167;01mValueError\u001b[39;00m(\u001b[38;5;124m\"\u001b[39m\u001b[38;5;124mDataSource is empty.\u001b[39m\u001b[38;5;124m\"\u001b[39m)\n\u001b[0;32m   1467\u001b[0m \u001b[38;5;28;01mreturn\u001b[39;00m df\u001b[38;5;241m.\u001b[39mreset_index(drop\u001b[38;5;241m=\u001b[39m\u001b[38;5;28;01mTrue\u001b[39;00m)\n",
      "\u001b[1;31mValueError\u001b[0m: DataSource is empty."
     ]
    }
   ],
   "source": [
    "# China\n",
    "\n",
    "import pybroker as pyb\n",
    "from datetime import datetime\n",
    "from pybroker import ExecContext, Strategy, YFinance\n",
    "import matplotlib.pyplot as plt\n",
    "from pybroker.ext.data import AKShare\n",
    "\n",
    "\n",
    "pyb.enable_data_source_cache('rebalancing')\n",
    "\n",
    "def start_of_month(ctxs: dict[str, ExecContext]) -> bool:\n",
    "    dt = tuple(ctxs.values())[0].dt\n",
    "    if dt.month != pyb.param('current_month'):\n",
    "        pyb.param('current_month', dt.month)\n",
    "        return True\n",
    "    return False\n",
    "\n",
    "def start_of_year(ctxs: dict[str, ExecContext]) -> bool:\n",
    "    dt = tuple(ctxs.values())[0].dt\n",
    "    if dt.year != pyb.param('current_year'):\n",
    "        pyb.param('current_year', dt.year)\n",
    "        return True\n",
    "    return False\n",
    "\n",
    "def set_target_shares(\n",
    "    ctxs: dict[str, ExecContext],\n",
    "    targets: dict[str, float]\n",
    "):\n",
    "    for symbol, target in targets.items():\n",
    "        ctx = ctxs[symbol]\n",
    "        target_shares = ctx.calc_target_shares(target)\n",
    "        pos = ctx.long_pos()\n",
    "        if pos is None:\n",
    "            ctx.buy_shares = target_shares\n",
    "        elif pos.shares < target_shares:\n",
    "            ctx.buy_shares = target_shares - pos.shares\n",
    "        elif pos.shares > target_shares:\n",
    "            ctx.sell_shares = pos.shares - target_shares\n",
    "\n",
    "def rebalance(ctxs: dict[str, ExecContext]):\n",
    "    if start_of_year(ctxs):\n",
    "        target = 1 / len(ctxs)\n",
    "        set_target_shares(ctxs, {symbol: target for symbol in ctxs.keys()})\n",
    "\n",
    "strategy = Strategy(AKShare(), start_date='1/1/2023', end_date='1/1/2025')\n",
    "\n",
    "strategy.add_execution(None, ['520580.SZ'])\n",
    "\n",
    "\n",
    "# strategy.add_execution(None, ['MOAT', 'PFF', 'VNQ', 'RSP'])\n",
    "# strategy.add_execution(None, ['TSLA', 'NFLX', 'AAPL', 'NVDA', 'AMZN'])\n",
    "\n",
    "# strategy.add_execution(None, ['MOAT', 'PFF', 'VNQ', 'RSP', 'TSLA', 'NFLX', 'AAPL', 'NVDA', 'AMZN'])\n",
    "\n",
    "strategy.set_after_exec(rebalance)\n",
    "result = strategy.backtest()    \n",
    "\n",
    "print(result.metrics_df)\n",
    "print(result.portfolio)\n",
    "\n",
    "\n",
    "chart = plt.subplot2grid((3, 2), (0, 0), rowspan=3, colspan=2)\n",
    "chart.plot(result.portfolio.index, result.portfolio['market_value'])\n"
   ]
  }
 ],
 "metadata": {
  "kernelspec": {
   "display_name": "Python (venv)",
   "language": "python",
   "name": "venv"
  },
  "language_info": {
   "codemirror_mode": {
    "name": "ipython",
    "version": 3
   },
   "file_extension": ".py",
   "mimetype": "text/x-python",
   "name": "python",
   "nbconvert_exporter": "python",
   "pygments_lexer": "ipython3",
   "version": "3.11.7"
  }
 },
 "nbformat": 4,
 "nbformat_minor": 5
}
