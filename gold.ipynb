{
 "cells": [
  {
   "cell_type": "code",
   "execution_count": null,
   "id": "78a63ba6",
   "metadata": {},
   "outputs": [],
   "source": [
    "import akshare as ak\n",
    "\n",
    "spot_hist_sge_df = ak.spot_hist_sge(symbol='Au99.99')\n",
    "\n",
    "spot_hist_sge_df.to_csv(\"./data/gold.csv\", index=False, encoding=\"utf-8-sig\")\n"
   ]
  }
 ],
 "metadata": {
  "language_info": {
   "name": "python"
  }
 },
 "nbformat": 4,
 "nbformat_minor": 5
}
