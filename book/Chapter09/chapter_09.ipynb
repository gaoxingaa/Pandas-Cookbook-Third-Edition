{
 "cells": [
  {
   "cell_type": "markdown",
   "metadata": {},
   "source": [
    "Temporal Data Types and Algorithms\n",
    "==================================\n",
    "\n"
   ]
  },
  {
   "cell_type": "code",
   "execution_count": 1,
   "metadata": {},
   "outputs": [],
   "source": [
    "import pandas as pd\n",
    "import numpy as np\n",
    "import pyarrow as pa"
   ]
  },
  {
   "cell_type": "markdown",
   "metadata": {},
   "source": [
    "## Time zone handling\n",
    "\n"
   ]
  },
  {
   "cell_type": "markdown",
   "metadata": {},
   "source": [
    "### How to do it\n",
    "\n"
   ]
  },
  {
   "cell_type": "code",
   "execution_count": 2,
   "metadata": {},
   "outputs": [
    {
     "data": {
      "text/plain": [
       "0   2024-01-01 00:00:00\n",
       "1   2024-01-02 00:00:01\n",
       "2   2024-01-03 00:00:02\n",
       "dtype: datetime64[ns]"
      ]
     },
     "execution_count": 2,
     "metadata": {},
     "output_type": "execute_result"
    }
   ],
   "source": [
    "ser = pd.Series([\n",
    "    \"2024-01-01 00:00:00\",\n",
    "    \"2024-01-02 00:00:01\",\n",
    "    \"2024-01-03 00:00:02\"\n",
    "], dtype=\"datetime64[ns]\")\n",
    "ser"
   ]
  },
  {
   "cell_type": "code",
   "execution_count": 3,
   "metadata": {},
   "outputs": [
    {
     "data": {
      "text/plain": [
       "True"
      ]
     },
     "execution_count": 3,
     "metadata": {},
     "output_type": "execute_result"
    }
   ],
   "source": [
    "ser.dt.tz is None"
   ]
  },
  {
   "cell_type": "code",
   "execution_count": 4,
   "metadata": {},
   "outputs": [
    {
     "data": {
      "text/plain": [
       "0   2024-01-01 00:00:00-05:00\n",
       "1   2024-01-02 00:00:01-05:00\n",
       "2   2024-01-03 00:00:02-05:00\n",
       "dtype: datetime64[ns, America/New_York]"
      ]
     },
     "execution_count": 4,
     "metadata": {},
     "output_type": "execute_result"
    }
   ],
   "source": [
    "ny_ser = ser.dt.tz_localize(\"America/New_York\")\n",
    "ny_ser"
   ]
  },
  {
   "cell_type": "code",
   "execution_count": 5,
   "metadata": {},
   "outputs": [
    {
     "data": {
      "text/plain": [
       "<DstTzInfo 'America/New_York' LMT-1 day, 19:04:00 STD>"
      ]
     },
     "execution_count": 5,
     "metadata": {},
     "output_type": "execute_result"
    }
   ],
   "source": [
    "ny_ser.dt.tz"
   ]
  },
  {
   "cell_type": "code",
   "execution_count": 6,
   "metadata": {},
   "outputs": [
    {
     "data": {
      "text/plain": [
       "0   2023-12-31 21:00:00-08:00\n",
       "1   2024-01-01 21:00:01-08:00\n",
       "2   2024-01-02 21:00:02-08:00\n",
       "dtype: datetime64[ns, America/Los_Angeles]"
      ]
     },
     "execution_count": 6,
     "metadata": {},
     "output_type": "execute_result"
    }
   ],
   "source": [
    "la_ser = ny_ser.dt.tz_convert(\"America/Los_Angeles\")\n",
    "la_ser"
   ]
  },
  {
   "cell_type": "code",
   "execution_count": 7,
   "metadata": {},
   "outputs": [
    {
     "data": {
      "text/plain": [
       "0   2023-12-31 21:00:00\n",
       "1   2024-01-01 21:00:01\n",
       "2   2024-01-02 21:00:02\n",
       "dtype: datetime64[ns]"
      ]
     },
     "execution_count": 7,
     "metadata": {},
     "output_type": "execute_result"
    }
   ],
   "source": [
    "la_ser.dt.tz_localize(None)"
   ]
  },
  {
   "cell_type": "code",
   "execution_count": 8,
   "metadata": {},
   "outputs": [
    {
     "data": {
      "text/html": [
       "<div>\n",
       "<style scoped>\n",
       "    .dataframe tbody tr th:only-of-type {\n",
       "        vertical-align: middle;\n",
       "    }\n",
       "\n",
       "    .dataframe tbody tr th {\n",
       "        vertical-align: top;\n",
       "    }\n",
       "\n",
       "    .dataframe thead th {\n",
       "        text-align: right;\n",
       "    }\n",
       "</style>\n",
       "<table border=\"1\" class=\"dataframe\">\n",
       "  <thead>\n",
       "    <tr style=\"text-align: right;\">\n",
       "      <th></th>\n",
       "      <th>datetime</th>\n",
       "      <th>timezone</th>\n",
       "    </tr>\n",
       "  </thead>\n",
       "  <tbody>\n",
       "    <tr>\n",
       "      <th>0</th>\n",
       "      <td>2023-12-31 21:00:00</td>\n",
       "      <td>America/Los_Angeles</td>\n",
       "    </tr>\n",
       "    <tr>\n",
       "      <th>1</th>\n",
       "      <td>2024-01-01 21:00:01</td>\n",
       "      <td>America/Los_Angeles</td>\n",
       "    </tr>\n",
       "    <tr>\n",
       "      <th>2</th>\n",
       "      <td>2024-01-02 21:00:02</td>\n",
       "      <td>America/Los_Angeles</td>\n",
       "    </tr>\n",
       "  </tbody>\n",
       "</table>\n",
       "</div>"
      ],
      "text/plain": [
       "             datetime             timezone\n",
       "0 2023-12-31 21:00:00  America/Los_Angeles\n",
       "1 2024-01-01 21:00:01  America/Los_Angeles\n",
       "2 2024-01-02 21:00:02  America/Los_Angeles"
      ]
     },
     "execution_count": 8,
     "metadata": {},
     "output_type": "execute_result"
    }
   ],
   "source": [
    "df = la_ser.to_frame().assign(\n",
    "    datetime=la_ser.dt.tz_localize(None),\n",
    "    timezone=str(la_ser.dt.tz),\n",
    ").drop(columns=[0])\n",
    "\n",
    "df"
   ]
  },
  {
   "cell_type": "code",
   "execution_count": 9,
   "metadata": {},
   "outputs": [
    {
     "data": {
      "text/plain": [
       "0   2023-12-31 21:00:00-08:00\n",
       "1   2024-01-01 21:00:01-08:00\n",
       "2   2024-01-02 21:00:02-08:00\n",
       "Name: datetime, dtype: datetime64[ns, America/Los_Angeles]"
      ]
     },
     "execution_count": 9,
     "metadata": {},
     "output_type": "execute_result"
    }
   ],
   "source": [
    "tz = df[\"timezone\"].drop_duplicates().squeeze()\n",
    "df[\"datetime\"].dt.tz_localize(tz)"
   ]
  },
  {
   "cell_type": "markdown",
   "metadata": {},
   "source": [
    "## DateOffsets\n",
    "\n"
   ]
  },
  {
   "cell_type": "markdown",
   "metadata": {},
   "source": [
    "### How to do it\n",
    "\n"
   ]
  },
  {
   "cell_type": "code",
   "execution_count": 10,
   "metadata": {},
   "outputs": [
    {
     "data": {
      "text/plain": [
       "0   2024-01-01\n",
       "1   2024-01-02\n",
       "2   2024-01-03\n",
       "dtype: datetime64[ns]"
      ]
     },
     "execution_count": 10,
     "metadata": {},
     "output_type": "execute_result"
    }
   ],
   "source": [
    "ser = pd.Series([\n",
    "    \"2024-01-01\",\n",
    "    \"2024-01-02\",\n",
    "    \"2024-01-03\",\n",
    "], dtype=\"datetime64[ns]\")\n",
    "ser"
   ]
  },
  {
   "cell_type": "code",
   "execution_count": 11,
   "metadata": {},
   "outputs": [
    {
     "data": {
      "text/plain": [
       "0   2024-02-01\n",
       "1   2024-02-02\n",
       "2   2024-02-03\n",
       "dtype: datetime64[ns]"
      ]
     },
     "execution_count": 11,
     "metadata": {},
     "output_type": "execute_result"
    }
   ],
   "source": [
    "ser + pd.DateOffset(months=1)"
   ]
  },
  {
   "cell_type": "code",
   "execution_count": 12,
   "metadata": {},
   "outputs": [
    {
     "data": {
      "text/plain": [
       "0   2024-03-01\n",
       "1   2024-03-02\n",
       "2   2024-03-03\n",
       "dtype: datetime64[ns]"
      ]
     },
     "execution_count": 12,
     "metadata": {},
     "output_type": "execute_result"
    }
   ],
   "source": [
    "ser + pd.DateOffset(months=2)"
   ]
  },
  {
   "cell_type": "code",
   "execution_count": 13,
   "metadata": {},
   "outputs": [
    {
     "data": {
      "text/plain": [
       "0   2024-02-29\n",
       "1   2024-02-29\n",
       "2   2024-02-29\n",
       "dtype: datetime64[ns]"
      ]
     },
     "execution_count": 13,
     "metadata": {},
     "output_type": "execute_result"
    }
   ],
   "source": [
    "pd.Series([\n",
    "    \"2024-01-29\",\n",
    "    \"2024-01-30\",\n",
    "    \"2024-01-31\",\n",
    "], dtype=\"datetime64[ns]\") + pd.DateOffset(months=1)"
   ]
  },
  {
   "cell_type": "code",
   "execution_count": 14,
   "metadata": {},
   "outputs": [
    {
     "data": {
      "text/plain": [
       "0   2023-12-01\n",
       "1   2023-12-02\n",
       "2   2023-12-03\n",
       "dtype: datetime64[ns]"
      ]
     },
     "execution_count": 14,
     "metadata": {},
     "output_type": "execute_result"
    }
   ],
   "source": [
    "ser + pd.DateOffset(months=-1)"
   ]
  },
  {
   "cell_type": "code",
   "execution_count": 15,
   "metadata": {},
   "outputs": [
    {
     "data": {
      "text/plain": [
       "0   2024-02-03 03:04:05\n",
       "1   2024-02-04 03:04:05\n",
       "2   2024-02-05 03:04:05\n",
       "dtype: datetime64[ns]"
      ]
     },
     "execution_count": 15,
     "metadata": {},
     "output_type": "execute_result"
    }
   ],
   "source": [
    "ser + pd.DateOffset(months=1, days=2, hours=3, minutes=4, seconds=5)"
   ]
  },
  {
   "cell_type": "code",
   "execution_count": 16,
   "metadata": {},
   "outputs": [
    {
     "data": {
      "text/plain": [
       "0   2024-01-31\n",
       "1   2024-01-31\n",
       "2   2024-01-31\n",
       "dtype: datetime64[ns]"
      ]
     },
     "execution_count": 16,
     "metadata": {},
     "output_type": "execute_result"
    }
   ],
   "source": [
    "ser + pd.offsets.MonthEnd()"
   ]
  },
  {
   "cell_type": "code",
   "execution_count": 17,
   "metadata": {},
   "outputs": [
    {
     "data": {
      "text/plain": [
       "0   2024-02-01\n",
       "1   2024-02-01\n",
       "2   2024-02-01\n",
       "dtype: datetime64[ns]"
      ]
     },
     "execution_count": 17,
     "metadata": {},
     "output_type": "execute_result"
    }
   ],
   "source": [
    "ser + pd.offsets.MonthBegin()"
   ]
  },
  {
   "cell_type": "markdown",
   "metadata": {},
   "source": [
    "### There's more&#x2026;\n",
    "\n"
   ]
  },
  {
   "cell_type": "code",
   "execution_count": 18,
   "metadata": {},
   "outputs": [
    {
     "data": {
      "text/plain": [
       "0       Monday\n",
       "1      Tuesday\n",
       "2    Wednesday\n",
       "dtype: object"
      ]
     },
     "execution_count": 18,
     "metadata": {},
     "output_type": "execute_result"
    }
   ],
   "source": [
    "ser.dt.day_name()"
   ]
  },
  {
   "cell_type": "code",
   "execution_count": 19,
   "metadata": {},
   "outputs": [
    {
     "data": {
      "text/plain": [
       "0   2024-01-04\n",
       "1   2024-01-05\n",
       "2   2024-01-08\n",
       "dtype: datetime64[ns]"
      ]
     },
     "execution_count": 19,
     "metadata": {},
     "output_type": "execute_result"
    }
   ],
   "source": [
    "bd_ser = ser + pd.offsets.BusinessDay(n=3)\n",
    "bd_ser"
   ]
  },
  {
   "cell_type": "code",
   "execution_count": 20,
   "metadata": {},
   "outputs": [
    {
     "data": {
      "text/plain": [
       "0    Thursday\n",
       "1      Friday\n",
       "2      Monday\n",
       "dtype: object"
      ]
     },
     "execution_count": 20,
     "metadata": {},
     "output_type": "execute_result"
    }
   ],
   "source": [
    "bd_ser.dt.day_name()"
   ]
  },
  {
   "cell_type": "code",
   "execution_count": 21,
   "metadata": {},
   "outputs": [
    {
     "name": "stderr",
     "output_type": "stream",
     "text": [
      "/tmp/ipykernel_172395/83449446.py:1: PerformanceWarning: Non-vectorized DateOffset being applied to Series or DatetimeIndex.\n",
      "  ser + pd.offsets.CustomBusinessDay(\n"
     ]
    },
    {
     "data": {
      "text/plain": [
       "0   2024-01-04\n",
       "1   2024-01-08\n",
       "2   2024-01-09\n",
       "dtype: datetime64[ns]"
      ]
     },
     "execution_count": 21,
     "metadata": {},
     "output_type": "execute_result"
    }
   ],
   "source": [
    "ser + pd.offsets.CustomBusinessDay(\n",
    "    n=3,\n",
    "    weekmask=\"Mon Tue Wed Thu\",\n",
    ")"
   ]
  },
  {
   "cell_type": "code",
   "execution_count": 22,
   "metadata": {},
   "outputs": [
    {
     "name": "stderr",
     "output_type": "stream",
     "text": [
      "/tmp/ipykernel_172395/2255203197.py:1: PerformanceWarning: Non-vectorized DateOffset being applied to Series or DatetimeIndex.\n",
      "  ser + pd.offsets.CustomBusinessDay(\n"
     ]
    },
    {
     "data": {
      "text/plain": [
       "0   2024-01-08\n",
       "1   2024-01-09\n",
       "2   2024-01-10\n",
       "dtype: datetime64[ns]"
      ]
     },
     "execution_count": 22,
     "metadata": {},
     "output_type": "execute_result"
    }
   ],
   "source": [
    "ser + pd.offsets.CustomBusinessDay(\n",
    "    n=3,\n",
    "    weekmask=\"Mon Tue Wed Thu\",\n",
    "    holidays=[\"2024-01-04\"],\n",
    ")"
   ]
  },
  {
   "cell_type": "code",
   "execution_count": 23,
   "metadata": {},
   "outputs": [
    {
     "data": {
      "text/plain": [
       "0   2024-01-31\n",
       "1   2024-01-31\n",
       "2   2024-01-31\n",
       "dtype: datetime64[ns]"
      ]
     },
     "execution_count": 23,
     "metadata": {},
     "output_type": "execute_result"
    }
   ],
   "source": [
    "ser + pd.offsets.BusinessMonthEnd()"
   ]
  },
  {
   "cell_type": "markdown",
   "metadata": {},
   "source": [
    "## Datetime selection\n",
    "\n"
   ]
  },
  {
   "cell_type": "markdown",
   "metadata": {},
   "source": [
    "### How to do it\n",
    "\n"
   ]
  },
  {
   "cell_type": "code",
   "execution_count": 24,
   "metadata": {},
   "outputs": [
    {
     "data": {
      "text/plain": [
       "DatetimeIndex(['2023-12-27', '2024-01-06', '2024-01-16', '2024-01-26',\n",
       "               '2024-02-05'],\n",
       "              dtype='datetime64[ns]', freq='10D')"
      ]
     },
     "execution_count": 24,
     "metadata": {},
     "output_type": "execute_result"
    }
   ],
   "source": [
    "pd.date_range(start=\"2023-12-27\", freq=\"10D\", periods=5)"
   ]
  },
  {
   "cell_type": "code",
   "execution_count": 25,
   "metadata": {},
   "outputs": [
    {
     "data": {
      "text/plain": [
       "DatetimeIndex(['2023-12-31', '2024-01-14', '2024-01-28', '2024-02-11',\n",
       "               '2024-02-25'],\n",
       "              dtype='datetime64[ns]', freq='2W-SUN')"
      ]
     },
     "execution_count": 25,
     "metadata": {},
     "output_type": "execute_result"
    }
   ],
   "source": [
    "pd.date_range(start=\"2023-12-27\", freq=\"2W\", periods=5)"
   ]
  },
  {
   "cell_type": "code",
   "execution_count": 26,
   "metadata": {},
   "outputs": [
    {
     "data": {
      "text/plain": [
       "DatetimeIndex(['2023-12-27', '2024-01-10', '2024-01-24', '2024-02-07',\n",
       "               '2024-02-21'],\n",
       "              dtype='datetime64[ns]', freq='2W-WED')"
      ]
     },
     "execution_count": 26,
     "metadata": {},
     "output_type": "execute_result"
    }
   ],
   "source": [
    "pd.date_range(start=\"2023-12-27\", freq=\"2W-WED\", periods=5)"
   ]
  },
  {
   "cell_type": "code",
   "execution_count": 27,
   "metadata": {},
   "outputs": [
    {
     "data": {
      "text/plain": [
       "DatetimeIndex(['2024-01-18', '2024-02-15', '2024-03-21', '2024-04-18',\n",
       "               '2024-05-16'],\n",
       "              dtype='datetime64[ns]', freq='WOM-3THU')"
      ]
     },
     "execution_count": 27,
     "metadata": {},
     "output_type": "execute_result"
    }
   ],
   "source": [
    "pd.date_range(start=\"2023-12-27\", freq=\"WOM-3THU\", periods=5)"
   ]
  },
  {
   "cell_type": "code",
   "execution_count": 28,
   "metadata": {},
   "outputs": [
    {
     "data": {
      "text/plain": [
       "DatetimeIndex(['2024-01-01', '2024-01-15', '2024-02-01', '2024-02-15',\n",
       "               '2024-03-01'],\n",
       "              dtype='datetime64[ns]', freq='SMS-15')"
      ]
     },
     "execution_count": 28,
     "metadata": {},
     "output_type": "execute_result"
    }
   ],
   "source": [
    "pd.date_range(start=\"2023-12-27\", freq=\"SMS\", periods=5)"
   ]
  },
  {
   "cell_type": "code",
   "execution_count": 29,
   "metadata": {},
   "outputs": [
    {
     "data": {
      "text/plain": [
       "2023-12-27    0\n",
       "2024-01-06    1\n",
       "2024-01-16    2\n",
       "Freq: 10D, dtype: int64"
      ]
     },
     "execution_count": 29,
     "metadata": {},
     "output_type": "execute_result"
    }
   ],
   "source": [
    "index = pd.date_range(start=\"2023-12-27\", freq=\"10D\", periods=20)\n",
    "ser = pd.Series(range(20), index=index)\n",
    "ser.loc[:pd.Timestamp(\"2024-01-18\")]"
   ]
  },
  {
   "cell_type": "code",
   "execution_count": 30,
   "metadata": {},
   "outputs": [
    {
     "data": {
      "text/plain": [
       "2024-01-06    1\n",
       "2024-01-16    2\n",
       "Freq: 10D, dtype: int64"
      ]
     },
     "execution_count": 30,
     "metadata": {},
     "output_type": "execute_result"
    }
   ],
   "source": [
    "ser.loc[pd.Timestamp(\"2024-01-06\"):pd.Timestamp(\"2024-01-18\")]"
   ]
  },
  {
   "cell_type": "code",
   "execution_count": 31,
   "metadata": {},
   "outputs": [
    {
     "data": {
      "text/plain": [
       "2024-01-06    1\n",
       "2024-01-16    2\n",
       "Freq: 10D, dtype: int64"
      ]
     },
     "execution_count": 31,
     "metadata": {},
     "output_type": "execute_result"
    }
   ],
   "source": [
    "ser.loc[\"2024-01-06\":\"2024-01-18\"]"
   ]
  },
  {
   "cell_type": "code",
   "execution_count": 32,
   "metadata": {},
   "outputs": [
    {
     "data": {
      "text/plain": [
       "2024-02-05    4\n",
       "2024-02-15    5\n",
       "2024-02-25    6\n",
       "Freq: 10D, dtype: int64"
      ]
     },
     "execution_count": 32,
     "metadata": {},
     "output_type": "execute_result"
    }
   ],
   "source": [
    "ser.loc[\"2024-02\"]"
   ]
  },
  {
   "cell_type": "code",
   "execution_count": 33,
   "metadata": {},
   "outputs": [
    {
     "data": {
      "text/plain": [
       "2024-02-05    4\n",
       "2024-02-15    5\n",
       "2024-02-25    6\n",
       "2024-03-06    7\n",
       "2024-03-16    8\n",
       "2024-03-26    9\n",
       "Freq: 10D, dtype: int64"
      ]
     },
     "execution_count": 33,
     "metadata": {},
     "output_type": "execute_result"
    }
   ],
   "source": [
    "ser.loc[\"2024-02\":\"2024-03\"]"
   ]
  },
  {
   "cell_type": "code",
   "execution_count": 34,
   "metadata": {},
   "outputs": [
    {
     "data": {
      "text/plain": [
       "2024-01-06    1\n",
       "2024-01-16    2\n",
       "2024-01-26    3\n",
       "2024-02-05    4\n",
       "2024-02-15    5\n",
       "Freq: 10D, dtype: int64"
      ]
     },
     "execution_count": 34,
     "metadata": {},
     "output_type": "execute_result"
    }
   ],
   "source": [
    "ser.loc[\"2024\"].head()"
   ]
  },
  {
   "cell_type": "markdown",
   "metadata": {},
   "source": [
    "### There's more&#x2026;\n",
    "\n"
   ]
  },
  {
   "cell_type": "code",
   "execution_count": 35,
   "metadata": {},
   "outputs": [
    {
     "data": {
      "text/plain": [
       "2023-12-27 00:00:00-05:00    0\n",
       "2023-12-27 12:00:00-05:00    1\n",
       "2023-12-28 00:00:00-05:00    2\n",
       "2023-12-28 12:00:00-05:00    3\n",
       "2023-12-29 00:00:00-05:00    4\n",
       "2023-12-29 12:00:00-05:00    5\n",
       "Freq: 12h, dtype: int64"
      ]
     },
     "execution_count": 35,
     "metadata": {},
     "output_type": "execute_result"
    }
   ],
   "source": [
    "index = pd.date_range(start=\"2023-12-27\", freq=\"12h\", periods=6, tz=\"US/Eastern\")\n",
    "ser = pd.Series(range(6), index=index)\n",
    "ser"
   ]
  },
  {
   "cell_type": "code",
   "execution_count": 36,
   "metadata": {},
   "outputs": [
    {
     "data": {
      "text/plain": [
       "2023-12-27 00:00:00-05:00    0\n",
       "Freq: 12h, dtype: int64"
      ]
     },
     "execution_count": 36,
     "metadata": {},
     "output_type": "execute_result"
    }
   ],
   "source": [
    "ser.loc[:\"2023-12-27 11:59:59\"]"
   ]
  },
  {
   "cell_type": "code",
   "execution_count": 37,
   "metadata": {},
   "outputs": [
    {
     "data": {
      "text/plain": [
       "2023-12-27 00:00:00-05:00    0\n",
       "2023-12-27 12:00:00-05:00    1\n",
       "Freq: 12h, dtype: int64"
      ]
     },
     "execution_count": 37,
     "metadata": {},
     "output_type": "execute_result"
    }
   ],
   "source": [
    "ser.loc[:\"2023-12-27 12:00:00\"]"
   ]
  },
  {
   "cell_type": "markdown",
   "metadata": {},
   "source": [
    "## Resampling\n",
    "\n"
   ]
  },
  {
   "cell_type": "markdown",
   "metadata": {},
   "source": [
    "### How to do it\n",
    "\n"
   ]
  },
  {
   "cell_type": "code",
   "execution_count": 38,
   "metadata": {},
   "outputs": [
    {
     "data": {
      "text/plain": [
       "2024-01-01 00:00:00    0\n",
       "2024-01-01 00:00:01    1\n",
       "2024-01-01 00:00:02    2\n",
       "2024-01-01 00:00:03    3\n",
       "2024-01-01 00:00:04    4\n",
       "2024-01-01 00:00:05    5\n",
       "2024-01-01 00:00:06    6\n",
       "2024-01-01 00:00:07    7\n",
       "2024-01-01 00:00:08    8\n",
       "2024-01-01 00:00:09    9\n",
       "Freq: s, dtype: Int64"
      ]
     },
     "execution_count": 38,
     "metadata": {},
     "output_type": "execute_result"
    }
   ],
   "source": [
    "index = pd.date_range(start=\"2024-01-01\", periods=10, freq=\"s\")\n",
    "ser = pd.Series(range(10), index=index, dtype=pd.Int64Dtype())\n",
    "ser"
   ]
  },
  {
   "cell_type": "code",
   "execution_count": 39,
   "metadata": {},
   "outputs": [
    {
     "data": {
      "text/plain": [
       "2024-01-01 00:00:00     3\n",
       "2024-01-01 00:00:03    12\n",
       "2024-01-01 00:00:06    21\n",
       "2024-01-01 00:00:09     9\n",
       "Freq: 3s, dtype: Int64"
      ]
     },
     "execution_count": 39,
     "metadata": {},
     "output_type": "execute_result"
    }
   ],
   "source": [
    "ser.resample(\"3s\").sum()"
   ]
  },
  {
   "cell_type": "code",
   "execution_count": 40,
   "metadata": {},
   "outputs": [
    {
     "data": {
      "text/plain": [
       "2023-12-31 23:59:57     0\n",
       "2024-01-01 00:00:00     6\n",
       "2024-01-01 00:00:03    15\n",
       "2024-01-01 00:00:06    24\n",
       "Freq: 3s, dtype: Int64"
      ]
     },
     "execution_count": 40,
     "metadata": {},
     "output_type": "execute_result"
    }
   ],
   "source": [
    "ser.resample(\"3s\", closed=\"right\").sum()"
   ]
  },
  {
   "cell_type": "code",
   "execution_count": 41,
   "metadata": {},
   "outputs": [
    {
     "data": {
      "text/plain": [
       "2024-01-01 00:00:00     0\n",
       "2024-01-01 00:00:03     6\n",
       "2024-01-01 00:00:06    15\n",
       "2024-01-01 00:00:09    24\n",
       "Freq: 3s, dtype: Int64"
      ]
     },
     "execution_count": 41,
     "metadata": {},
     "output_type": "execute_result"
    }
   ],
   "source": [
    "ser.resample(\"3s\", closed=\"right\", label=\"right\").sum()"
   ]
  },
  {
   "cell_type": "code",
   "execution_count": 42,
   "metadata": {},
   "outputs": [
    {
     "data": {
      "text/plain": [
       "2024-01-31    45\n",
       "Freq: ME, dtype: Int64"
      ]
     },
     "execution_count": 42,
     "metadata": {},
     "output_type": "execute_result"
    }
   ],
   "source": [
    "ser.resample(\"ME\").sum()"
   ]
  },
  {
   "cell_type": "code",
   "execution_count": 43,
   "metadata": {},
   "outputs": [
    {
     "data": {
      "text/plain": [
       "2024-01-01    0\n",
       "2024-01-02    1\n",
       "2024-01-03    2\n",
       "2024-01-04    3\n",
       "2024-01-05    4\n",
       "2024-01-06    5\n",
       "2024-01-07    6\n",
       "2024-01-08    7\n",
       "2024-01-09    8\n",
       "2024-01-10    9\n",
       "Freq: D, dtype: Int64"
      ]
     },
     "execution_count": 43,
     "metadata": {},
     "output_type": "execute_result"
    }
   ],
   "source": [
    "index = pd.date_range(start=\"2024-01-01\", freq=\"D\", periods=10)\n",
    "ser = pd.Series(range(10), index=index, dtype=pd.Int64Dtype())\n",
    "ser"
   ]
  },
  {
   "cell_type": "code",
   "execution_count": 44,
   "metadata": {},
   "outputs": [
    {
     "data": {
      "text/plain": [
       "Index(['Monday', 'Tuesday', 'Wednesday', 'Thursday', 'Friday', 'Saturday',\n",
       "       'Sunday', 'Monday', 'Tuesday', 'Wednesday'],\n",
       "      dtype='object')"
      ]
     },
     "execution_count": 44,
     "metadata": {},
     "output_type": "execute_result"
    }
   ],
   "source": [
    "ser.index.day_name()"
   ]
  },
  {
   "cell_type": "code",
   "execution_count": 45,
   "metadata": {},
   "outputs": [
    {
     "data": {
      "text/plain": [
       "2024-01-07    21\n",
       "2024-01-14    24\n",
       "Freq: W-SUN, dtype: Int64"
      ]
     },
     "execution_count": 45,
     "metadata": {},
     "output_type": "execute_result"
    }
   ],
   "source": [
    "ser.resample(\"W\").sum()"
   ]
  },
  {
   "cell_type": "code",
   "execution_count": 46,
   "metadata": {},
   "outputs": [
    {
     "data": {
      "text/plain": [
       "2024-01-06    15\n",
       "2024-01-13    30\n",
       "Freq: W-SAT, dtype: Int64"
      ]
     },
     "execution_count": 46,
     "metadata": {},
     "output_type": "execute_result"
    }
   ],
   "source": [
    "ser.resample(\"W-SAT\").sum()"
   ]
  },
  {
   "cell_type": "code",
   "execution_count": 47,
   "metadata": {},
   "outputs": [
    {
     "data": {
      "text/plain": [
       "2024-01-03     3\n",
       "2024-01-10    42\n",
       "Freq: W-WED, dtype: Int64"
      ]
     },
     "execution_count": 47,
     "metadata": {},
     "output_type": "execute_result"
    }
   ],
   "source": [
    "ser.resample(\"W-WED\").sum()"
   ]
  },
  {
   "cell_type": "code",
   "execution_count": 48,
   "metadata": {},
   "outputs": [
    {
     "data": {
      "text/plain": [
       "2024-01-01 00:00:00       0\n",
       "2024-01-01 12:00:00    <NA>\n",
       "2024-01-02 00:00:00       1\n",
       "2024-01-02 12:00:00    <NA>\n",
       "2024-01-03 00:00:00       2\n",
       "Freq: 12h, dtype: Int64"
      ]
     },
     "execution_count": 48,
     "metadata": {},
     "output_type": "execute_result"
    }
   ],
   "source": [
    "ser.resample(\"12h\").asfreq().iloc[:5]"
   ]
  },
  {
   "cell_type": "code",
   "execution_count": 49,
   "metadata": {},
   "outputs": [
    {
     "data": {
      "text/plain": [
       "2024-01-01 00:00:00    0\n",
       "2024-01-01 12:00:00    0\n",
       "2024-01-02 00:00:00    1\n",
       "2024-01-02 12:00:00    1\n",
       "2024-01-03 00:00:00    2\n",
       "2024-01-03 12:00:00    2\n",
       "Freq: 12h, dtype: Int64"
      ]
     },
     "execution_count": 49,
     "metadata": {},
     "output_type": "execute_result"
    }
   ],
   "source": [
    "ser.resample(\"12h\").asfreq().ffill().iloc[:6]"
   ]
  },
  {
   "cell_type": "code",
   "execution_count": 50,
   "metadata": {},
   "outputs": [
    {
     "data": {
      "text/plain": [
       "2024-01-01 00:00:00    0\n",
       "2024-01-01 12:00:00    1\n",
       "2024-01-02 00:00:00    1\n",
       "2024-01-02 12:00:00    2\n",
       "2024-01-03 00:00:00    2\n",
       "2024-01-03 12:00:00    3\n",
       "Freq: 12h, dtype: Int64"
      ]
     },
     "execution_count": 50,
     "metadata": {},
     "output_type": "execute_result"
    }
   ],
   "source": [
    "ser.resample(\"12h\").asfreq().bfill().iloc[:6]"
   ]
  },
  {
   "cell_type": "code",
   "execution_count": 51,
   "metadata": {},
   "outputs": [
    {
     "data": {
      "text/plain": [
       "2024-01-01 00:00:00    0.0\n",
       "2024-01-01 12:00:00    0.5\n",
       "2024-01-02 00:00:00    1.0\n",
       "2024-01-02 12:00:00    1.5\n",
       "2024-01-03 00:00:00    2.0\n",
       "2024-01-03 12:00:00    2.5\n",
       "Freq: 12h, dtype: Float64"
      ]
     },
     "execution_count": 51,
     "metadata": {},
     "output_type": "execute_result"
    }
   ],
   "source": [
    "ser.resample(\"12h\").asfreq().interpolate().iloc[:6]"
   ]
  },
  {
   "cell_type": "markdown",
   "metadata": {},
   "source": [
    "### There's more&#x2026;\n",
    "\n"
   ]
  },
  {
   "cell_type": "code",
   "execution_count": 52,
   "metadata": {},
   "outputs": [
    {
     "data": {
      "text/plain": [
       "2024-01-01 00:00:00    0\n",
       "2024-01-01 00:00:01    1\n",
       "2024-01-01 00:00:02    2\n",
       "2024-01-01 00:00:03    3\n",
       "2024-01-01 00:00:04    4\n",
       "2024-01-01 00:00:05    5\n",
       "2024-01-01 00:00:06    6\n",
       "2024-01-01 00:00:07    7\n",
       "2024-01-01 00:00:08    8\n",
       "2024-01-01 00:00:09    9\n",
       "Freq: s, dtype: Int64"
      ]
     },
     "execution_count": 52,
     "metadata": {},
     "output_type": "execute_result"
    }
   ],
   "source": [
    "index = pd.date_range(start=\"2024-01-01\", periods=10, freq=\"s\")\n",
    "ser = pd.Series(range(10), index=index, dtype=pd.Int64Dtype())\n",
    "ser"
   ]
  },
  {
   "cell_type": "code",
   "execution_count": 53,
   "metadata": {},
   "outputs": [
    {
     "data": {
      "text/plain": [
       "2024-01-01 00:00:00     3\n",
       "2024-01-01 00:00:03    12\n",
       "2024-01-01 00:00:06    21\n",
       "2024-01-01 00:00:09     9\n",
       "Freq: 3s, dtype: Int64"
      ]
     },
     "execution_count": 53,
     "metadata": {},
     "output_type": "execute_result"
    }
   ],
   "source": [
    "ser.resample(\"3s\").sum()"
   ]
  },
  {
   "cell_type": "code",
   "execution_count": 54,
   "metadata": {},
   "outputs": [
    {
     "data": {
      "text/plain": [
       "2024-01-01 00:00:00     3\n",
       "2024-01-01 00:00:03    12\n",
       "2024-01-01 00:00:06    21\n",
       "2024-01-01 00:00:09     9\n",
       "Freq: 3s, dtype: Int64"
      ]
     },
     "execution_count": 54,
     "metadata": {},
     "output_type": "execute_result"
    }
   ],
   "source": [
    "ser.groupby(pd.Grouper(freq=\"3s\")).sum()"
   ]
  },
  {
   "cell_type": "markdown",
   "metadata": {},
   "source": [
    "## Aggregating weekly crime and traffic accidents\n",
    "\n"
   ]
  },
  {
   "cell_type": "markdown",
   "metadata": {},
   "source": [
    "### How to do it\n",
    "\n"
   ]
  },
  {
   "cell_type": "code",
   "execution_count": 55,
   "metadata": {},
   "outputs": [
    {
     "data": {
      "text/html": [
       "<div>\n",
       "<style scoped>\n",
       "    .dataframe tbody tr th:only-of-type {\n",
       "        vertical-align: middle;\n",
       "    }\n",
       "\n",
       "    .dataframe tbody tr th {\n",
       "        vertical-align: top;\n",
       "    }\n",
       "\n",
       "    .dataframe thead th {\n",
       "        text-align: right;\n",
       "    }\n",
       "</style>\n",
       "<table border=\"1\" class=\"dataframe\">\n",
       "  <thead>\n",
       "    <tr style=\"text-align: right;\">\n",
       "      <th></th>\n",
       "      <th>OFFENSE_TYPE_ID</th>\n",
       "      <th>OFFENSE_CATEGORY_ID</th>\n",
       "      <th>GEO_LON</th>\n",
       "      <th>GEO_LAT</th>\n",
       "      <th>NEIGHBORHOOD_ID</th>\n",
       "      <th>IS_CRIME</th>\n",
       "      <th>IS_TRAFFIC</th>\n",
       "    </tr>\n",
       "    <tr>\n",
       "      <th>REPORTED_DATE</th>\n",
       "      <th></th>\n",
       "      <th></th>\n",
       "      <th></th>\n",
       "      <th></th>\n",
       "      <th></th>\n",
       "      <th></th>\n",
       "      <th></th>\n",
       "    </tr>\n",
       "  </thead>\n",
       "  <tbody>\n",
       "    <tr>\n",
       "      <th>2014-06-29 02:01:00</th>\n",
       "      <td>traffic-accident-dui-duid</td>\n",
       "      <td>traffic-accident</td>\n",
       "      <td>-105.000149</td>\n",
       "      <td>39.745753</td>\n",
       "      <td>cbd</td>\n",
       "      <td>0</td>\n",
       "      <td>1</td>\n",
       "    </tr>\n",
       "    <tr>\n",
       "      <th>2014-06-29 01:54:00</th>\n",
       "      <td>vehicular-eluding-no-chase</td>\n",
       "      <td>all-other-crimes</td>\n",
       "      <td>-104.884660</td>\n",
       "      <td>39.738702</td>\n",
       "      <td>east-colfax</td>\n",
       "      <td>1</td>\n",
       "      <td>0</td>\n",
       "    </tr>\n",
       "    <tr>\n",
       "      <th>2014-06-29 02:00:00</th>\n",
       "      <td>disturbing-the-peace</td>\n",
       "      <td>public-disorder</td>\n",
       "      <td>-105.020719</td>\n",
       "      <td>39.706674</td>\n",
       "      <td>athmar-park</td>\n",
       "      <td>1</td>\n",
       "      <td>0</td>\n",
       "    </tr>\n",
       "    <tr>\n",
       "      <th>2014-06-29 02:18:00</th>\n",
       "      <td>curfew</td>\n",
       "      <td>public-disorder</td>\n",
       "      <td>-105.001552</td>\n",
       "      <td>39.769505</td>\n",
       "      <td>sunnyside</td>\n",
       "      <td>1</td>\n",
       "      <td>0</td>\n",
       "    </tr>\n",
       "    <tr>\n",
       "      <th>2014-06-29 04:17:00</th>\n",
       "      <td>aggravated-assault</td>\n",
       "      <td>aggravated-assault</td>\n",
       "      <td>-105.018557</td>\n",
       "      <td>39.679229</td>\n",
       "      <td>college-view-south-platte</td>\n",
       "      <td>1</td>\n",
       "      <td>0</td>\n",
       "    </tr>\n",
       "  </tbody>\n",
       "</table>\n",
       "</div>"
      ],
      "text/plain": [
       "                                OFFENSE_TYPE_ID OFFENSE_CATEGORY_ID  \\\n",
       "REPORTED_DATE                                                         \n",
       "2014-06-29 02:01:00   traffic-accident-dui-duid    traffic-accident   \n",
       "2014-06-29 01:54:00  vehicular-eluding-no-chase    all-other-crimes   \n",
       "2014-06-29 02:00:00        disturbing-the-peace     public-disorder   \n",
       "2014-06-29 02:18:00                      curfew     public-disorder   \n",
       "2014-06-29 04:17:00          aggravated-assault  aggravated-assault   \n",
       "\n",
       "                        GEO_LON    GEO_LAT            NEIGHBORHOOD_ID  \\\n",
       "REPORTED_DATE                                                           \n",
       "2014-06-29 02:01:00 -105.000149  39.745753                        cbd   \n",
       "2014-06-29 01:54:00 -104.884660  39.738702                east-colfax   \n",
       "2014-06-29 02:00:00 -105.020719  39.706674                athmar-park   \n",
       "2014-06-29 02:18:00 -105.001552  39.769505                  sunnyside   \n",
       "2014-06-29 04:17:00 -105.018557  39.679229  college-view-south-platte   \n",
       "\n",
       "                     IS_CRIME  IS_TRAFFIC  \n",
       "REPORTED_DATE                              \n",
       "2014-06-29 02:01:00         0           1  \n",
       "2014-06-29 01:54:00         1           0  \n",
       "2014-06-29 02:00:00         1           0  \n",
       "2014-06-29 02:18:00         1           0  \n",
       "2014-06-29 04:17:00         1           0  "
      ]
     },
     "execution_count": 55,
     "metadata": {},
     "output_type": "execute_result"
    }
   ],
   "source": [
    "df = pd.read_parquet(\n",
    "    \"data/crime.parquet\",\n",
    ").set_index(\"REPORTED_DATE\")\n",
    "\n",
    "df.head()"
   ]
  },
  {
   "cell_type": "code",
   "execution_count": 56,
   "metadata": {},
   "outputs": [
    {
     "data": {
      "text/plain": [
       "REPORTED_DATE\n",
       "2012-01-08     877\n",
       "2012-01-15    1071\n",
       "2012-01-22     991\n",
       "2012-01-29     988\n",
       "2012-02-05     888\n",
       "              ... \n",
       "2017-09-03    1956\n",
       "2017-09-10    1733\n",
       "2017-09-17    1976\n",
       "2017-09-24    1839\n",
       "2017-10-01    1059\n",
       "Freq: W-SUN, Length: 300, dtype: int64"
      ]
     },
     "execution_count": 56,
     "metadata": {},
     "output_type": "execute_result"
    }
   ],
   "source": [
    "df.resample(\"W\").size()"
   ]
  },
  {
   "cell_type": "code",
   "execution_count": 57,
   "metadata": {},
   "outputs": [
    {
     "data": {
      "text/plain": [
       "877"
      ]
     },
     "execution_count": 57,
     "metadata": {},
     "output_type": "execute_result"
    }
   ],
   "source": [
    "len(df.sort_index().loc[:'2012-01-08'])"
   ]
  },
  {
   "cell_type": "code",
   "execution_count": 58,
   "metadata": {},
   "outputs": [
    {
     "data": {
      "text/plain": [
       "1071"
      ]
     },
     "execution_count": 58,
     "metadata": {},
     "output_type": "execute_result"
    }
   ],
   "source": [
    "len(df.sort_index().loc['2012-01-09':'2012-01-15'])"
   ]
  },
  {
   "cell_type": "code",
   "execution_count": 59,
   "metadata": {},
   "outputs": [
    {
     "data": {
      "text/plain": [
       "<Axes: title={'center': 'All Denver Crimes'}, xlabel='REPORTED_DATE'>"
      ]
     },
     "execution_count": 59,
     "metadata": {},
     "output_type": "execute_result"
    },
    {
     "data": {
      "image/png": "[encoded data removed]",
      "text/plain": [
       "<Figure size 640x480 with 1 Axes>"
      ]
     },
     "metadata": {},
     "output_type": "display_data"
    }
   ],
   "source": [
    "import matplotlib.pyplot as plt\n",
    "plt.ion()\n",
    "df.resample(\"W\").size().plot(title=\"All Denver Crimes\")"
   ]
  },
  {
   "cell_type": "code",
   "execution_count": 60,
   "metadata": {},
   "outputs": [
    {
     "data": {
      "text/html": [
       "<div>\n",
       "<style scoped>\n",
       "    .dataframe tbody tr th:only-of-type {\n",
       "        vertical-align: middle;\n",
       "    }\n",
       "\n",
       "    .dataframe tbody tr th {\n",
       "        vertical-align: top;\n",
       "    }\n",
       "\n",
       "    .dataframe thead th {\n",
       "        text-align: right;\n",
       "    }\n",
       "</style>\n",
       "<table border=\"1\" class=\"dataframe\">\n",
       "  <thead>\n",
       "    <tr style=\"text-align: right;\">\n",
       "      <th></th>\n",
       "      <th>IS_CRIME</th>\n",
       "      <th>IS_TRAFFIC</th>\n",
       "    </tr>\n",
       "    <tr>\n",
       "      <th>REPORTED_DATE</th>\n",
       "      <th></th>\n",
       "      <th></th>\n",
       "    </tr>\n",
       "  </thead>\n",
       "  <tbody>\n",
       "    <tr>\n",
       "      <th>2012-01-01</th>\n",
       "      <td>7882</td>\n",
       "      <td>4726</td>\n",
       "    </tr>\n",
       "    <tr>\n",
       "      <th>2012-04-01</th>\n",
       "      <td>9641</td>\n",
       "      <td>5255</td>\n",
       "    </tr>\n",
       "    <tr>\n",
       "      <th>2012-07-01</th>\n",
       "      <td>10566</td>\n",
       "      <td>5003</td>\n",
       "    </tr>\n",
       "    <tr>\n",
       "      <th>2012-10-01</th>\n",
       "      <td>9197</td>\n",
       "      <td>4802</td>\n",
       "    </tr>\n",
       "    <tr>\n",
       "      <th>2013-01-01</th>\n",
       "      <td>8730</td>\n",
       "      <td>4442</td>\n",
       "    </tr>\n",
       "  </tbody>\n",
       "</table>\n",
       "</div>"
      ],
      "text/plain": [
       "               IS_CRIME  IS_TRAFFIC\n",
       "REPORTED_DATE                      \n",
       "2012-01-01         7882        4726\n",
       "2012-04-01         9641        5255\n",
       "2012-07-01        10566        5003\n",
       "2012-10-01         9197        4802\n",
       "2013-01-01         8730        4442"
      ]
     },
     "execution_count": 60,
     "metadata": {},
     "output_type": "execute_result"
    }
   ],
   "source": [
    "df.resample(\"QS\")[[\"IS_CRIME\", \"IS_TRAFFIC\"]].sum().head()"
   ]
  },
  {
   "cell_type": "code",
   "execution_count": 61,
   "metadata": {},
   "outputs": [
    {
     "data": {
      "text/plain": [
       "<Axes: title={'center': 'Denver Crime and Traffic Accidents'}, xlabel='REPORTED_DATE'>"
      ]
     },
     "execution_count": 61,
     "metadata": {},
     "output_type": "execute_result"
    },
    {
     "data": {
      "image/png": "[encoded data removed]",
      "text/plain": [
       "<Figure size 640x480 with 1 Axes>"
      ]
     },
     "metadata": {},
     "output_type": "display_data"
    }
   ],
   "source": [
    "df.resample(\"QS\")[[\"IS_CRIME\", \"IS_TRAFFIC\"]].sum().plot(\n",
    "  color=[\"black\", \"lightgrey\"],\n",
    "  title=\"Denver Crime and Traffic Accidents\"\n",
    ")"
   ]
  },
  {
   "cell_type": "markdown",
   "metadata": {},
   "source": [
    "## Calculating year over year changes in crime by category\n",
    "\n"
   ]
  },
  {
   "cell_type": "markdown",
   "metadata": {},
   "source": [
    "### How to do it\n",
    "\n"
   ]
  },
  {
   "cell_type": "code",
   "execution_count": 62,
   "metadata": {},
   "outputs": [
    {
     "data": {
      "text/html": [
       "<div>\n",
       "<style scoped>\n",
       "    .dataframe tbody tr th:only-of-type {\n",
       "        vertical-align: middle;\n",
       "    }\n",
       "\n",
       "    .dataframe tbody tr th {\n",
       "        vertical-align: top;\n",
       "    }\n",
       "\n",
       "    .dataframe thead th {\n",
       "        text-align: right;\n",
       "    }\n",
       "</style>\n",
       "<table border=\"1\" class=\"dataframe\">\n",
       "  <thead>\n",
       "    <tr style=\"text-align: right;\">\n",
       "      <th></th>\n",
       "      <th>OFFENSE_TYPE_ID</th>\n",
       "      <th>OFFENSE_CATEGORY_ID</th>\n",
       "      <th>REPORTED_DATE</th>\n",
       "      <th>GEO_LON</th>\n",
       "      <th>GEO_LAT</th>\n",
       "      <th>NEIGHBORHOOD_ID</th>\n",
       "      <th>IS_CRIME</th>\n",
       "      <th>IS_TRAFFIC</th>\n",
       "    </tr>\n",
       "  </thead>\n",
       "  <tbody>\n",
       "    <tr>\n",
       "      <th>0</th>\n",
       "      <td>traffic-accident-dui-duid</td>\n",
       "      <td>traffic-accident</td>\n",
       "      <td>2014-06-29 02:01:00</td>\n",
       "      <td>-105.000149</td>\n",
       "      <td>39.745753</td>\n",
       "      <td>cbd</td>\n",
       "      <td>0</td>\n",
       "      <td>1</td>\n",
       "    </tr>\n",
       "    <tr>\n",
       "      <th>1</th>\n",
       "      <td>vehicular-eluding-no-chase</td>\n",
       "      <td>all-other-crimes</td>\n",
       "      <td>2014-06-29 01:54:00</td>\n",
       "      <td>-104.884660</td>\n",
       "      <td>39.738702</td>\n",
       "      <td>east-colfax</td>\n",
       "      <td>1</td>\n",
       "      <td>0</td>\n",
       "    </tr>\n",
       "    <tr>\n",
       "      <th>2</th>\n",
       "      <td>disturbing-the-peace</td>\n",
       "      <td>public-disorder</td>\n",
       "      <td>2014-06-29 02:00:00</td>\n",
       "      <td>-105.020719</td>\n",
       "      <td>39.706674</td>\n",
       "      <td>athmar-park</td>\n",
       "      <td>1</td>\n",
       "      <td>0</td>\n",
       "    </tr>\n",
       "    <tr>\n",
       "      <th>3</th>\n",
       "      <td>curfew</td>\n",
       "      <td>public-disorder</td>\n",
       "      <td>2014-06-29 02:18:00</td>\n",
       "      <td>-105.001552</td>\n",
       "      <td>39.769505</td>\n",
       "      <td>sunnyside</td>\n",
       "      <td>1</td>\n",
       "      <td>0</td>\n",
       "    </tr>\n",
       "    <tr>\n",
       "      <th>4</th>\n",
       "      <td>aggravated-assault</td>\n",
       "      <td>aggravated-assault</td>\n",
       "      <td>2014-06-29 04:17:00</td>\n",
       "      <td>-105.018557</td>\n",
       "      <td>39.679229</td>\n",
       "      <td>college-view-south-platte</td>\n",
       "      <td>1</td>\n",
       "      <td>0</td>\n",
       "    </tr>\n",
       "  </tbody>\n",
       "</table>\n",
       "</div>"
      ],
      "text/plain": [
       "              OFFENSE_TYPE_ID OFFENSE_CATEGORY_ID       REPORTED_DATE  \\\n",
       "0   traffic-accident-dui-duid    traffic-accident 2014-06-29 02:01:00   \n",
       "1  vehicular-eluding-no-chase    all-other-crimes 2014-06-29 01:54:00   \n",
       "2        disturbing-the-peace     public-disorder 2014-06-29 02:00:00   \n",
       "3                      curfew     public-disorder 2014-06-29 02:18:00   \n",
       "4          aggravated-assault  aggravated-assault 2014-06-29 04:17:00   \n",
       "\n",
       "      GEO_LON    GEO_LAT            NEIGHBORHOOD_ID  IS_CRIME  IS_TRAFFIC  \n",
       "0 -105.000149  39.745753                        cbd         0           1  \n",
       "1 -104.884660  39.738702                east-colfax         1           0  \n",
       "2 -105.020719  39.706674                athmar-park         1           0  \n",
       "3 -105.001552  39.769505                  sunnyside         1           0  \n",
       "4 -105.018557  39.679229  college-view-south-platte         1           0  "
      ]
     },
     "execution_count": 62,
     "metadata": {},
     "output_type": "execute_result"
    }
   ],
   "source": [
    "df = pd.read_parquet(\n",
    "    \"data/crime.parquet\",\n",
    ")\n",
    "df.head()"
   ]
  },
  {
   "cell_type": "code",
   "execution_count": 63,
   "metadata": {},
   "outputs": [
    {
     "data": {
      "text/html": [
       "<div>\n",
       "<style scoped>\n",
       "    .dataframe tbody tr th:only-of-type {\n",
       "        vertical-align: middle;\n",
       "    }\n",
       "\n",
       "    .dataframe tbody tr th {\n",
       "        vertical-align: top;\n",
       "    }\n",
       "\n",
       "    .dataframe thead th {\n",
       "        text-align: right;\n",
       "    }\n",
       "</style>\n",
       "<table border=\"1\" class=\"dataframe\">\n",
       "  <thead>\n",
       "    <tr style=\"text-align: right;\">\n",
       "      <th></th>\n",
       "      <th></th>\n",
       "      <th>total_crime</th>\n",
       "    </tr>\n",
       "    <tr>\n",
       "      <th>OFFENSE_CATEGORY_ID</th>\n",
       "      <th>REPORTED_DATE</th>\n",
       "      <th></th>\n",
       "    </tr>\n",
       "  </thead>\n",
       "  <tbody>\n",
       "    <tr>\n",
       "      <th rowspan=\"5\" valign=\"top\">aggravated-assault</th>\n",
       "      <th>2012-01-01</th>\n",
       "      <td>1707</td>\n",
       "    </tr>\n",
       "    <tr>\n",
       "      <th>2013-01-01</th>\n",
       "      <td>1631</td>\n",
       "    </tr>\n",
       "    <tr>\n",
       "      <th>2014-01-01</th>\n",
       "      <td>1788</td>\n",
       "    </tr>\n",
       "    <tr>\n",
       "      <th>2015-01-01</th>\n",
       "      <td>2007</td>\n",
       "    </tr>\n",
       "    <tr>\n",
       "      <th>2016-01-01</th>\n",
       "      <td>2139</td>\n",
       "    </tr>\n",
       "    <tr>\n",
       "      <th>...</th>\n",
       "      <th>...</th>\n",
       "      <td>...</td>\n",
       "    </tr>\n",
       "    <tr>\n",
       "      <th rowspan=\"5\" valign=\"top\">white-collar-crime</th>\n",
       "      <th>2013-01-01</th>\n",
       "      <td>771</td>\n",
       "    </tr>\n",
       "    <tr>\n",
       "      <th>2014-01-01</th>\n",
       "      <td>1043</td>\n",
       "    </tr>\n",
       "    <tr>\n",
       "      <th>2015-01-01</th>\n",
       "      <td>1319</td>\n",
       "    </tr>\n",
       "    <tr>\n",
       "      <th>2016-01-01</th>\n",
       "      <td>1232</td>\n",
       "    </tr>\n",
       "    <tr>\n",
       "      <th>2017-01-01</th>\n",
       "      <td>1058</td>\n",
       "    </tr>\n",
       "  </tbody>\n",
       "</table>\n",
       "<p>90 rows × 1 columns</p>\n",
       "</div>"
      ],
      "text/plain": [
       "                                   total_crime\n",
       "OFFENSE_CATEGORY_ID REPORTED_DATE             \n",
       "aggravated-assault  2012-01-01            1707\n",
       "                    2013-01-01            1631\n",
       "                    2014-01-01            1788\n",
       "                    2015-01-01            2007\n",
       "                    2016-01-01            2139\n",
       "...                                        ...\n",
       "white-collar-crime  2013-01-01             771\n",
       "                    2014-01-01            1043\n",
       "                    2015-01-01            1319\n",
       "                    2016-01-01            1232\n",
       "                    2017-01-01            1058\n",
       "\n",
       "[90 rows x 1 columns]"
      ]
     },
     "execution_count": 63,
     "metadata": {},
     "output_type": "execute_result"
    }
   ],
   "source": [
    "df.groupby([\n",
    "    \"OFFENSE_CATEGORY_ID\",\n",
    "    pd.Grouper(key=\"REPORTED_DATE\", freq=\"YS\"),\n",
    "], observed=True).agg(\n",
    "    total_crime=pd.NamedAgg(column=\"IS_CRIME\", aggfunc=\"sum\"),\n",
    ")"
   ]
  },
  {
   "cell_type": "code",
   "execution_count": 64,
   "metadata": {},
   "outputs": [
    {
     "data": {
      "text/html": [
       "<div>\n",
       "<style scoped>\n",
       "    .dataframe tbody tr th:only-of-type {\n",
       "        vertical-align: middle;\n",
       "    }\n",
       "\n",
       "    .dataframe tbody tr th {\n",
       "        vertical-align: top;\n",
       "    }\n",
       "\n",
       "    .dataframe thead th {\n",
       "        text-align: right;\n",
       "    }\n",
       "</style>\n",
       "<table border=\"1\" class=\"dataframe\">\n",
       "  <thead>\n",
       "    <tr style=\"text-align: right;\">\n",
       "      <th></th>\n",
       "      <th></th>\n",
       "      <th>total_crime</th>\n",
       "      <th>yoy_change</th>\n",
       "    </tr>\n",
       "    <tr>\n",
       "      <th>OFFENSE_CATEGORY_ID</th>\n",
       "      <th>REPORTED_DATE</th>\n",
       "      <th></th>\n",
       "      <th></th>\n",
       "    </tr>\n",
       "  </thead>\n",
       "  <tbody>\n",
       "    <tr>\n",
       "      <th rowspan=\"6\" valign=\"top\">aggravated-assault</th>\n",
       "      <th>2012-01-01</th>\n",
       "      <td>1707</td>\n",
       "      <td>&lt;NA&gt;</td>\n",
       "    </tr>\n",
       "    <tr>\n",
       "      <th>2013-01-01</th>\n",
       "      <td>1631</td>\n",
       "      <td>-0.044523</td>\n",
       "    </tr>\n",
       "    <tr>\n",
       "      <th>2014-01-01</th>\n",
       "      <td>1788</td>\n",
       "      <td>0.09626</td>\n",
       "    </tr>\n",
       "    <tr>\n",
       "      <th>2015-01-01</th>\n",
       "      <td>2007</td>\n",
       "      <td>0.122483</td>\n",
       "    </tr>\n",
       "    <tr>\n",
       "      <th>2016-01-01</th>\n",
       "      <td>2139</td>\n",
       "      <td>0.06577</td>\n",
       "    </tr>\n",
       "    <tr>\n",
       "      <th>2017-01-01</th>\n",
       "      <td>1689</td>\n",
       "      <td>-0.210379</td>\n",
       "    </tr>\n",
       "    <tr>\n",
       "      <th rowspan=\"4\" valign=\"top\">all-other-crimes</th>\n",
       "      <th>2012-01-01</th>\n",
       "      <td>1999</td>\n",
       "      <td>0.183541</td>\n",
       "    </tr>\n",
       "    <tr>\n",
       "      <th>2013-01-01</th>\n",
       "      <td>9377</td>\n",
       "      <td>3.690845</td>\n",
       "    </tr>\n",
       "    <tr>\n",
       "      <th>2014-01-01</th>\n",
       "      <td>15507</td>\n",
       "      <td>0.653727</td>\n",
       "    </tr>\n",
       "    <tr>\n",
       "      <th>2015-01-01</th>\n",
       "      <td>15729</td>\n",
       "      <td>0.014316</td>\n",
       "    </tr>\n",
       "  </tbody>\n",
       "</table>\n",
       "</div>"
      ],
      "text/plain": [
       "                                   total_crime  yoy_change\n",
       "OFFENSE_CATEGORY_ID REPORTED_DATE                         \n",
       "aggravated-assault  2012-01-01            1707        <NA>\n",
       "                    2013-01-01            1631   -0.044523\n",
       "                    2014-01-01            1788     0.09626\n",
       "                    2015-01-01            2007    0.122483\n",
       "                    2016-01-01            2139     0.06577\n",
       "                    2017-01-01            1689   -0.210379\n",
       "all-other-crimes    2012-01-01            1999    0.183541\n",
       "                    2013-01-01            9377    3.690845\n",
       "                    2014-01-01           15507    0.653727\n",
       "                    2015-01-01           15729    0.014316"
      ]
     },
     "execution_count": 64,
     "metadata": {},
     "output_type": "execute_result"
    }
   ],
   "source": [
    "df.groupby([\n",
    "    \"OFFENSE_CATEGORY_ID\",\n",
    "    pd.Grouper(key=\"REPORTED_DATE\", freq=\"YS\"),\n",
    "], observed=True).agg(\n",
    "    total_crime=pd.NamedAgg(column=\"IS_CRIME\", aggfunc=\"sum\"),\n",
    ").assign(\n",
    "    yoy_change=lambda x: x[\"total_crime\"].pct_change().astype(pd.Float64Dtype())\n",
    ").head(10)"
   ]
  },
  {
   "cell_type": "code",
   "execution_count": 65,
   "metadata": {},
   "outputs": [
    {
     "data": {
      "text/html": [
       "<div>\n",
       "<style scoped>\n",
       "    .dataframe tbody tr th:only-of-type {\n",
       "        vertical-align: middle;\n",
       "    }\n",
       "\n",
       "    .dataframe tbody tr th {\n",
       "        vertical-align: top;\n",
       "    }\n",
       "\n",
       "    .dataframe thead th {\n",
       "        text-align: right;\n",
       "    }\n",
       "</style>\n",
       "<table border=\"1\" class=\"dataframe\">\n",
       "  <thead>\n",
       "    <tr style=\"text-align: right;\">\n",
       "      <th></th>\n",
       "      <th></th>\n",
       "      <th>total_crime</th>\n",
       "      <th>yoy_change</th>\n",
       "    </tr>\n",
       "    <tr>\n",
       "      <th>OFFENSE_CATEGORY_ID</th>\n",
       "      <th>REPORTED_DATE</th>\n",
       "      <th></th>\n",
       "      <th></th>\n",
       "    </tr>\n",
       "  </thead>\n",
       "  <tbody>\n",
       "    <tr>\n",
       "      <th rowspan=\"6\" valign=\"top\">aggravated-assault</th>\n",
       "      <th>2012-01-01</th>\n",
       "      <td>1707</td>\n",
       "      <td>&lt;NA&gt;</td>\n",
       "    </tr>\n",
       "    <tr>\n",
       "      <th>2013-01-01</th>\n",
       "      <td>1631</td>\n",
       "      <td>-0.044523</td>\n",
       "    </tr>\n",
       "    <tr>\n",
       "      <th>2014-01-01</th>\n",
       "      <td>1788</td>\n",
       "      <td>0.09626</td>\n",
       "    </tr>\n",
       "    <tr>\n",
       "      <th>2015-01-01</th>\n",
       "      <td>2007</td>\n",
       "      <td>0.122483</td>\n",
       "    </tr>\n",
       "    <tr>\n",
       "      <th>2016-01-01</th>\n",
       "      <td>2139</td>\n",
       "      <td>0.06577</td>\n",
       "    </tr>\n",
       "    <tr>\n",
       "      <th>2017-01-01</th>\n",
       "      <td>1689</td>\n",
       "      <td>-0.210379</td>\n",
       "    </tr>\n",
       "    <tr>\n",
       "      <th rowspan=\"4\" valign=\"top\">all-other-crimes</th>\n",
       "      <th>2012-01-01</th>\n",
       "      <td>1999</td>\n",
       "      <td>&lt;NA&gt;</td>\n",
       "    </tr>\n",
       "    <tr>\n",
       "      <th>2013-01-01</th>\n",
       "      <td>9377</td>\n",
       "      <td>3.690845</td>\n",
       "    </tr>\n",
       "    <tr>\n",
       "      <th>2014-01-01</th>\n",
       "      <td>15507</td>\n",
       "      <td>0.653727</td>\n",
       "    </tr>\n",
       "    <tr>\n",
       "      <th>2015-01-01</th>\n",
       "      <td>15729</td>\n",
       "      <td>0.014316</td>\n",
       "    </tr>\n",
       "  </tbody>\n",
       "</table>\n",
       "</div>"
      ],
      "text/plain": [
       "                                   total_crime  yoy_change\n",
       "OFFENSE_CATEGORY_ID REPORTED_DATE                         \n",
       "aggravated-assault  2012-01-01            1707        <NA>\n",
       "                    2013-01-01            1631   -0.044523\n",
       "                    2014-01-01            1788     0.09626\n",
       "                    2015-01-01            2007    0.122483\n",
       "                    2016-01-01            2139     0.06577\n",
       "                    2017-01-01            1689   -0.210379\n",
       "all-other-crimes    2012-01-01            1999        <NA>\n",
       "                    2013-01-01            9377    3.690845\n",
       "                    2014-01-01           15507    0.653727\n",
       "                    2015-01-01           15729    0.014316"
      ]
     },
     "execution_count": 65,
     "metadata": {},
     "output_type": "execute_result"
    }
   ],
   "source": [
    "yoy_crime = df.groupby([\n",
    "    \"OFFENSE_CATEGORY_ID\",\n",
    "    pd.Grouper(key=\"REPORTED_DATE\", freq=\"YS\"),\n",
    "], observed=True).agg(\n",
    "    total_crime=pd.NamedAgg(column=\"IS_CRIME\", aggfunc=\"sum\"),\n",
    ").assign(\n",
    "    yoy_change=lambda x: x.groupby(\n",
    "        level=0, observed=True\n",
    "    ).pct_change().astype(pd.Float64Dtype())\n",
    ")\n",
    "\n",
    "yoy_crime.head(10)"
   ]
  },
  {
   "cell_type": "code",
   "execution_count": 66,
   "metadata": {},
   "outputs": [
    {
     "data": {
      "image/png": "[encoded data removed]",
      "text/plain": [
       "<Figure size 640x480 with 6 Axes>"
      ]
     },
     "metadata": {},
     "output_type": "display_data"
    }
   ],
   "source": [
    "crimes = tuple((\"aggravated-assault\", \"arson\", \"auto-theft\"))\n",
    "fig, axes = plt.subplots(nrows=len(crimes), ncols=2, sharex=True)\n",
    "\n",
    "for idx, crime in enumerate(crimes):\n",
    "    crime_df = yoy_crime.loc[crime]\n",
    "    ax0 = axes[idx][0]\n",
    "    ax1 = axes[idx][1]\n",
    "    crime_df.plot(kind=\"bar\", y=\"total_crime\", ax=ax0, legend=False)\n",
    "    crime_df.plot(kind=\"bar\", y=\"yoy_change\", ax=ax1, legend=False)\n",
    "\n",
    "    xlabels = [x.year for x in crime_df.index]\n",
    "    ax0.set_xticklabels(xlabels)\n",
    "    ax0.set_title(f\"{crime} total\")\n",
    "    ax1.set_xticklabels(xlabels)\n",
    "    ax1.set_title(f\"{crime} YoY\")\n",
    "    ax0.set_xlabel(\"\")\n",
    "    ax1.set_xlabel(\"\")\n",
    "\n",
    "plt.tight_layout()"
   ]
  },
  {
   "cell_type": "markdown",
   "metadata": {},
   "source": [
    "## Accurately measuring sensor-collected events with missing values\n",
    "\n"
   ]
  },
  {
   "cell_type": "markdown",
   "metadata": {},
   "source": [
    "### How to do it\n",
    "\n"
   ]
  },
  {
   "cell_type": "code",
   "execution_count": 67,
   "metadata": {},
   "outputs": [
    {
     "data": {
      "text/html": [
       "<div>\n",
       "<style scoped>\n",
       "    .dataframe tbody tr th:only-of-type {\n",
       "        vertical-align: middle;\n",
       "    }\n",
       "\n",
       "    .dataframe tbody tr th {\n",
       "        vertical-align: top;\n",
       "    }\n",
       "\n",
       "    .dataframe thead th {\n",
       "        text-align: right;\n",
       "    }\n",
       "</style>\n",
       "<table border=\"1\" class=\"dataframe\">\n",
       "  <thead>\n",
       "    <tr style=\"text-align: right;\">\n",
       "      <th></th>\n",
       "      <th>Measurement Title</th>\n",
       "      <th>Measurement Description</th>\n",
       "      <th>Measurement Type</th>\n",
       "      <th>Measurement Medium</th>\n",
       "      <th>Measurement Time</th>\n",
       "      <th>Measurement Value</th>\n",
       "      <th>Units</th>\n",
       "      <th>Units Abbreviation</th>\n",
       "      <th>Measurement Period Type</th>\n",
       "      <th>Data Stream ID</th>\n",
       "      <th>Resource ID</th>\n",
       "      <th>Measurement ID</th>\n",
       "      <th>Record ID</th>\n",
       "      <th>Latitude</th>\n",
       "      <th>Longitude</th>\n",
       "      <th>Location</th>\n",
       "    </tr>\n",
       "  </thead>\n",
       "  <tbody>\n",
       "    <tr>\n",
       "      <th>0</th>\n",
       "      <td>UI Labs Bioswale NWS Probability of Precipitation</td>\n",
       "      <td>&lt;NA&gt;</td>\n",
       "      <td>TimeWindowBoundary</td>\n",
       "      <td>&lt;NA&gt;</td>\n",
       "      <td>07/26/2017 07:00:00 AM</td>\n",
       "      <td>17.0</td>\n",
       "      <td>universal coordinated time</td>\n",
       "      <td>UTC</td>\n",
       "      <td>Instantaneous</td>\n",
       "      <td>33264</td>\n",
       "      <td>65150</td>\n",
       "      <td>2519012303999999999</td>\n",
       "      <td>332642519012303999999999</td>\n",
       "      <td>41.90715</td>\n",
       "      <td>-87.653996</td>\n",
       "      <td>POINT (-87.653996 41.90715)</td>\n",
       "    </tr>\n",
       "    <tr>\n",
       "      <th>1</th>\n",
       "      <td>UI Labs Bioswale NWS Probability of Precipitation</td>\n",
       "      <td>&lt;NA&gt;</td>\n",
       "      <td>TimeWindowBoundary</td>\n",
       "      <td>&lt;NA&gt;</td>\n",
       "      <td>06/23/2017 07:00:00 AM</td>\n",
       "      <td>24.0</td>\n",
       "      <td>universal coordinated time</td>\n",
       "      <td>UTC</td>\n",
       "      <td>Instantaneous</td>\n",
       "      <td>33264</td>\n",
       "      <td>65152</td>\n",
       "      <td>2519040815999999999</td>\n",
       "      <td>332642519040815999999999</td>\n",
       "      <td>41.90715</td>\n",
       "      <td>-87.653996</td>\n",
       "      <td>POINT (-87.653996 41.90715)</td>\n",
       "    </tr>\n",
       "    <tr>\n",
       "      <th>2</th>\n",
       "      <td>UI Labs Bioswale NWS Probability of Precipitation</td>\n",
       "      <td>&lt;NA&gt;</td>\n",
       "      <td>TimeWindowBoundary</td>\n",
       "      <td>&lt;NA&gt;</td>\n",
       "      <td>06/04/2017 07:00:00 AM</td>\n",
       "      <td>20.0</td>\n",
       "      <td>universal coordinated time</td>\n",
       "      <td>UTC</td>\n",
       "      <td>Instantaneous</td>\n",
       "      <td>33264</td>\n",
       "      <td>65150</td>\n",
       "      <td>2519057231999999999</td>\n",
       "      <td>332642519057231999999999</td>\n",
       "      <td>41.90715</td>\n",
       "      <td>-87.653996</td>\n",
       "      <td>POINT (-87.653996 41.90715)</td>\n",
       "    </tr>\n",
       "    <tr>\n",
       "      <th>3</th>\n",
       "      <td>UI Labs Bioswale NWS Probability of Precipitation</td>\n",
       "      <td>&lt;NA&gt;</td>\n",
       "      <td>TimeWindowBoundary</td>\n",
       "      <td>&lt;NA&gt;</td>\n",
       "      <td>09/19/2017 07:00:00 AM</td>\n",
       "      <td>79.0</td>\n",
       "      <td>universal coordinated time</td>\n",
       "      <td>UTC</td>\n",
       "      <td>Instantaneous</td>\n",
       "      <td>33264</td>\n",
       "      <td>65150</td>\n",
       "      <td>2518964783999999999</td>\n",
       "      <td>332642518964783999999999</td>\n",
       "      <td>41.90715</td>\n",
       "      <td>-87.653996</td>\n",
       "      <td>POINT (-87.653996 41.90715)</td>\n",
       "    </tr>\n",
       "    <tr>\n",
       "      <th>4</th>\n",
       "      <td>UI Labs Bioswale NWS Probability of Precipitation</td>\n",
       "      <td>&lt;NA&gt;</td>\n",
       "      <td>TimeWindowBoundary</td>\n",
       "      <td>&lt;NA&gt;</td>\n",
       "      <td>06/07/2017 07:00:00 AM</td>\n",
       "      <td>0.0</td>\n",
       "      <td>universal coordinated time</td>\n",
       "      <td>UTC</td>\n",
       "      <td>Instantaneous</td>\n",
       "      <td>33264</td>\n",
       "      <td>65150</td>\n",
       "      <td>2519054639999999999</td>\n",
       "      <td>332642519054639999999999</td>\n",
       "      <td>41.90715</td>\n",
       "      <td>-87.653996</td>\n",
       "      <td>POINT (-87.653996 41.90715)</td>\n",
       "    </tr>\n",
       "  </tbody>\n",
       "</table>\n",
       "</div>"
      ],
      "text/plain": [
       "                                   Measurement Title Measurement Description  \\\n",
       "0  UI Labs Bioswale NWS Probability of Precipitation                    <NA>   \n",
       "1  UI Labs Bioswale NWS Probability of Precipitation                    <NA>   \n",
       "2  UI Labs Bioswale NWS Probability of Precipitation                    <NA>   \n",
       "3  UI Labs Bioswale NWS Probability of Precipitation                    <NA>   \n",
       "4  UI Labs Bioswale NWS Probability of Precipitation                    <NA>   \n",
       "\n",
       "     Measurement Type Measurement Medium        Measurement Time  \\\n",
       "0  TimeWindowBoundary               <NA>  07/26/2017 07:00:00 AM   \n",
       "1  TimeWindowBoundary               <NA>  06/23/2017 07:00:00 AM   \n",
       "2  TimeWindowBoundary               <NA>  06/04/2017 07:00:00 AM   \n",
       "3  TimeWindowBoundary               <NA>  09/19/2017 07:00:00 AM   \n",
       "4  TimeWindowBoundary               <NA>  06/07/2017 07:00:00 AM   \n",
       "\n",
       "   Measurement Value                       Units Units Abbreviation  \\\n",
       "0               17.0  universal coordinated time                UTC   \n",
       "1               24.0  universal coordinated time                UTC   \n",
       "2               20.0  universal coordinated time                UTC   \n",
       "3               79.0  universal coordinated time                UTC   \n",
       "4                0.0  universal coordinated time                UTC   \n",
       "\n",
       "  Measurement Period Type  Data Stream ID  Resource ID       Measurement ID  \\\n",
       "0           Instantaneous           33264        65150  2519012303999999999   \n",
       "1           Instantaneous           33264        65152  2519040815999999999   \n",
       "2           Instantaneous           33264        65150  2519057231999999999   \n",
       "3           Instantaneous           33264        65150  2518964783999999999   \n",
       "4           Instantaneous           33264        65150  2519054639999999999   \n",
       "\n",
       "                  Record ID  Latitude  Longitude                     Location  \n",
       "0  332642519012303999999999  41.90715 -87.653996  POINT (-87.653996 41.90715)  \n",
       "1  332642519040815999999999  41.90715 -87.653996  POINT (-87.653996 41.90715)  \n",
       "2  332642519057231999999999  41.90715 -87.653996  POINT (-87.653996 41.90715)  \n",
       "3  332642518964783999999999  41.90715 -87.653996  POINT (-87.653996 41.90715)  \n",
       "4  332642519054639999999999  41.90715 -87.653996  POINT (-87.653996 41.90715)  "
      ]
     },
     "execution_count": 67,
     "metadata": {},
     "output_type": "execute_result"
    }
   ],
   "source": [
    "df = pd.read_parquet(\n",
    "    \"data/sgi_monitoring.parquet\",\n",
    "    dtype_backend=\"numpy_nullable\",\n",
    ")\n",
    "\n",
    "df.head()"
   ]
  },
  {
   "cell_type": "code",
   "execution_count": 68,
   "metadata": {},
   "outputs": [
    {
     "data": {
      "text/plain": [
       "0    07/26/2017 07:00:00 AM\n",
       "1    06/23/2017 07:00:00 AM\n",
       "2    06/04/2017 07:00:00 AM\n",
       "3    09/19/2017 07:00:00 AM\n",
       "4    06/07/2017 07:00:00 AM\n",
       "Name: Measurement Time, dtype: string"
      ]
     },
     "execution_count": 68,
     "metadata": {},
     "output_type": "execute_result"
    }
   ],
   "source": [
    "df[\"Measurement Time\"].head()"
   ]
  },
  {
   "cell_type": "code",
   "execution_count": 69,
   "metadata": {},
   "outputs": [
    {
     "data": {
      "text/plain": [
       "0         2017-07-26 07:00:00-05:00\n",
       "1         2017-06-23 07:00:00-05:00\n",
       "2         2017-06-04 07:00:00-05:00\n",
       "3         2017-09-19 07:00:00-05:00\n",
       "4         2017-06-07 07:00:00-05:00\n",
       "                     ...           \n",
       "4889976   2017-08-26 20:11:55-05:00\n",
       "4889977   2017-08-26 20:10:54-05:00\n",
       "4889978   2017-08-26 20:09:53-05:00\n",
       "4889979   2017-08-26 20:08:52-05:00\n",
       "4889980   2017-08-26 20:07:50-05:00\n",
       "Name: Measurement Time, Length: 4889981, dtype: datetime64[ns, US/Central]"
      ]
     },
     "execution_count": 69,
     "metadata": {},
     "output_type": "execute_result"
    }
   ],
   "source": [
    "df[\"Measurement Time\"] = pd.to_datetime(\n",
    "    df[\"Measurement Time\"]\n",
    ").dt.tz_localize(\"US/Central\")\n",
    "\n",
    "df[\"Measurement Time\"]"
   ]
  },
  {
   "cell_type": "code",
   "execution_count": 70,
   "metadata": {},
   "outputs": [
    {
     "data": {
      "text/plain": [
       "Measurement Type         Units                           \n",
       "Temperature              degrees Celsius                     721697\n",
       "DifferentialPressure     pascals                             721671\n",
       "WindSpeed                meters per second                   721665\n",
       "Temperature              millivolts                          612313\n",
       "SoilMoisture             millivolts                          612312\n",
       "RelativeHumidity         percent                             389424\n",
       "CumulativePrecipitation  count                               389415\n",
       "WindDirection            degrees from north                  389413\n",
       "SoilMoisture             Percent Volumetric Water Content    208391\n",
       "CumulativePrecipitation  inches                              122762\n",
       "TimeWindowBoundary       universal coordinated time             918\n",
       "Name: count, dtype: int64"
      ]
     },
     "execution_count": 70,
     "metadata": {},
     "output_type": "execute_result"
    }
   ],
   "source": [
    "df[[\"Measurement Type\", \"Units\"]].value_counts()"
   ]
  },
  {
   "cell_type": "code",
   "execution_count": 71,
   "metadata": {},
   "outputs": [
    {
     "data": {
      "text/plain": [
       "Data Stream ID\n",
       "33305    211584\n",
       "39197    207193\n",
       "39176    193536\n",
       "Name: count, dtype: Int64"
      ]
     },
     "execution_count": 71,
     "metadata": {},
     "output_type": "execute_result"
    }
   ],
   "source": [
    "df[df[\"Measurement Description\"] == \"TM1 Temp Sensor\"][\"Data Stream ID\"].value_counts()"
   ]
  },
  {
   "cell_type": "code",
   "execution_count": 72,
   "metadata": {},
   "outputs": [
    {
     "data": {
      "text/plain": [
       "Measurement Type  Units     \n",
       "Temperature       millivolts    193536\n",
       "Name: count, dtype: int64"
      ]
     },
     "execution_count": 72,
     "metadata": {},
     "output_type": "execute_result"
    }
   ],
   "source": [
    "mask = (\n",
    "    (df[\"Measurement Description\"] == \"TM1 Temp Sensor\")\n",
    "    & (df[\"Data Stream ID\"] == 39176)\n",
    ")\n",
    "df = df[mask].set_index(\"Measurement Time\").sort_index()\n",
    "df[[\"Measurement Type\", \"Units\"]].value_counts()"
   ]
  },
  {
   "cell_type": "code",
   "execution_count": 73,
   "metadata": {},
   "outputs": [
    {
     "data": {
      "text/plain": [
       "<Axes: xlabel='Measurement Time'>"
      ]
     },
     "execution_count": 73,
     "metadata": {},
     "output_type": "execute_result"
    },
    {
     "data": {
      "image/png": "[encoded data removed]",
      "text/plain": [
       "<Figure size 640x480 with 1 Axes>"
      ]
     },
     "metadata": {},
     "output_type": "display_data"
    }
   ],
   "source": [
    "df.resample(\"D\")[\"Measurement Value\"].mean().plot()"
   ]
  },
  {
   "cell_type": "code",
   "execution_count": 74,
   "metadata": {},
   "outputs": [
    {
     "data": {
      "text/plain": [
       "Measurement Time\n",
       "2017-07-24 00:00:00-05:00    3295.908956\n",
       "2017-07-25 00:00:00-05:00    3296.152968\n",
       "2017-07-26 00:00:00-05:00    3296.460156\n",
       "2017-07-27 00:00:00-05:00    3296.697269\n",
       "2017-07-28 00:00:00-05:00    3296.328725\n",
       "2017-07-29 00:00:00-05:00    3295.882705\n",
       "2017-07-30 00:00:00-05:00    3295.800989\n",
       "2017-07-31 00:00:00-05:00           <NA>\n",
       "2017-08-01 00:00:00-05:00    3296.126888\n",
       "Freq: D, Name: Measurement Value, dtype: Float64"
      ]
     },
     "execution_count": 74,
     "metadata": {},
     "output_type": "execute_result"
    }
   ],
   "source": [
    "df.loc[\"2017-07-24\":\"2017-08-01\"].resample(\"D\")[\"Measurement Value\"].mean()"
   ]
  },
  {
   "cell_type": "code",
   "execution_count": 75,
   "metadata": {},
   "outputs": [
    {
     "data": {
      "text/plain": [
       "<Axes: xlabel='Measurement Time'>"
      ]
     },
     "execution_count": 75,
     "metadata": {},
     "output_type": "execute_result"
    },
    {
     "data": {
      "image/png": "[encoded data removed]",
      "text/plain": [
       "<Figure size 640x480 with 1 Axes>"
      ]
     },
     "metadata": {},
     "output_type": "display_data"
    }
   ],
   "source": [
    "df.resample(\"D\")[\"Measurement Value\"].mean().interpolate().plot()"
   ]
  },
  {
   "cell_type": "markdown",
   "metadata": {},
   "source": [
    "### There's more&#x2026;\n",
    "\n"
   ]
  },
  {
   "cell_type": "code",
   "execution_count": 76,
   "metadata": {},
   "outputs": [
    {
     "data": {
      "text/plain": [
       "<Axes: xlabel='Measurement Time'>"
      ]
     },
     "execution_count": 76,
     "metadata": {},
     "output_type": "execute_result"
    },
    {
     "data": {
      "image/png": "[encoded data removed]",
      "text/plain": [
       "<Figure size 640x480 with 1 Axes>"
      ]
     },
     "metadata": {},
     "output_type": "display_data"
    }
   ],
   "source": [
    "df.resample(\"D\")[\"Measurement Value\"].sum().plot()"
   ]
  },
  {
   "cell_type": "code",
   "execution_count": 77,
   "metadata": {},
   "outputs": [
    {
     "data": {
      "text/html": [
       "<div>\n",
       "<style scoped>\n",
       "    .dataframe tbody tr th:only-of-type {\n",
       "        vertical-align: middle;\n",
       "    }\n",
       "\n",
       "    .dataframe tbody tr th {\n",
       "        vertical-align: top;\n",
       "    }\n",
       "\n",
       "    .dataframe thead th {\n",
       "        text-align: right;\n",
       "    }\n",
       "</style>\n",
       "<table border=\"1\" class=\"dataframe\">\n",
       "  <thead>\n",
       "    <tr style=\"text-align: right;\">\n",
       "      <th></th>\n",
       "      <th>Measurement Title</th>\n",
       "      <th>Measurement Description</th>\n",
       "      <th>Measurement Type</th>\n",
       "      <th>Measurement Medium</th>\n",
       "      <th>Measurement Value</th>\n",
       "      <th>Units</th>\n",
       "      <th>Units Abbreviation</th>\n",
       "      <th>Measurement Period Type</th>\n",
       "      <th>Data Stream ID</th>\n",
       "      <th>Resource ID</th>\n",
       "      <th>Measurement ID</th>\n",
       "      <th>Record ID</th>\n",
       "      <th>Latitude</th>\n",
       "      <th>Longitude</th>\n",
       "      <th>Location</th>\n",
       "    </tr>\n",
       "    <tr>\n",
       "      <th>Measurement Time</th>\n",
       "      <th></th>\n",
       "      <th></th>\n",
       "      <th></th>\n",
       "      <th></th>\n",
       "      <th></th>\n",
       "      <th></th>\n",
       "      <th></th>\n",
       "      <th></th>\n",
       "      <th></th>\n",
       "      <th></th>\n",
       "      <th></th>\n",
       "      <th></th>\n",
       "      <th></th>\n",
       "      <th></th>\n",
       "      <th></th>\n",
       "    </tr>\n",
       "  </thead>\n",
       "  <tbody>\n",
       "    <tr>\n",
       "      <th>2017-07-30 15:48:44-05:00</th>\n",
       "      <td>Argyle - Thunder 1: TM1 Temp Sensor</td>\n",
       "      <td>TM1 Temp Sensor</td>\n",
       "      <td>Temperature</td>\n",
       "      <td>Atmosphere</td>\n",
       "      <td>3298.0</td>\n",
       "      <td>millivolts</td>\n",
       "      <td>mV</td>\n",
       "      <td>Instantaneous</td>\n",
       "      <td>39176</td>\n",
       "      <td>73546</td>\n",
       "      <td>2519008530759999999</td>\n",
       "      <td>391762519008530759999999</td>\n",
       "      <td>41.973086</td>\n",
       "      <td>-87.659725</td>\n",
       "      <td>POINT (-87.659725 41.973086)</td>\n",
       "    </tr>\n",
       "    <tr>\n",
       "      <th>2017-07-30 15:49:45-05:00</th>\n",
       "      <td>Argyle - Thunder 1: TM1 Temp Sensor</td>\n",
       "      <td>TM1 Temp Sensor</td>\n",
       "      <td>Temperature</td>\n",
       "      <td>Atmosphere</td>\n",
       "      <td>3298.0</td>\n",
       "      <td>millivolts</td>\n",
       "      <td>mV</td>\n",
       "      <td>Instantaneous</td>\n",
       "      <td>39176</td>\n",
       "      <td>73546</td>\n",
       "      <td>2519008530149999999</td>\n",
       "      <td>391762519008530149999999</td>\n",
       "      <td>41.973086</td>\n",
       "      <td>-87.659725</td>\n",
       "      <td>POINT (-87.659725 41.973086)</td>\n",
       "    </tr>\n",
       "    <tr>\n",
       "      <th>2017-07-30 15:50:46-05:00</th>\n",
       "      <td>Argyle - Thunder 1: TM1 Temp Sensor</td>\n",
       "      <td>TM1 Temp Sensor</td>\n",
       "      <td>Temperature</td>\n",
       "      <td>Atmosphere</td>\n",
       "      <td>3298.0</td>\n",
       "      <td>millivolts</td>\n",
       "      <td>mV</td>\n",
       "      <td>Instantaneous</td>\n",
       "      <td>39176</td>\n",
       "      <td>73546</td>\n",
       "      <td>2519008529539999999</td>\n",
       "      <td>391762519008529539999999</td>\n",
       "      <td>41.973086</td>\n",
       "      <td>-87.659725</td>\n",
       "      <td>POINT (-87.659725 41.973086)</td>\n",
       "    </tr>\n",
       "    <tr>\n",
       "      <th>2017-08-01 15:21:33-05:00</th>\n",
       "      <td>Argyle - Thunder 1: TM1 Temp Sensor</td>\n",
       "      <td>TM1 Temp Sensor</td>\n",
       "      <td>Temperature</td>\n",
       "      <td>Atmosphere</td>\n",
       "      <td>3293.0</td>\n",
       "      <td>millivolts</td>\n",
       "      <td>mV</td>\n",
       "      <td>Instantaneous</td>\n",
       "      <td>39176</td>\n",
       "      <td>73546</td>\n",
       "      <td>2519006819069999999</td>\n",
       "      <td>391762519006819069999999</td>\n",
       "      <td>41.973086</td>\n",
       "      <td>-87.659725</td>\n",
       "      <td>POINT (-87.659725 41.973086)</td>\n",
       "    </tr>\n",
       "    <tr>\n",
       "      <th>2017-08-01 15:22:34-05:00</th>\n",
       "      <td>Argyle - Thunder 1: TM1 Temp Sensor</td>\n",
       "      <td>TM1 Temp Sensor</td>\n",
       "      <td>Temperature</td>\n",
       "      <td>Atmosphere</td>\n",
       "      <td>3298.0</td>\n",
       "      <td>millivolts</td>\n",
       "      <td>mV</td>\n",
       "      <td>Instantaneous</td>\n",
       "      <td>39176</td>\n",
       "      <td>73546</td>\n",
       "      <td>2519006818459999999</td>\n",
       "      <td>391762519006818459999999</td>\n",
       "      <td>41.973086</td>\n",
       "      <td>-87.659725</td>\n",
       "      <td>POINT (-87.659725 41.973086)</td>\n",
       "    </tr>\n",
       "  </tbody>\n",
       "</table>\n",
       "</div>"
      ],
      "text/plain": [
       "                                             Measurement Title  \\\n",
       "Measurement Time                                                 \n",
       "2017-07-30 15:48:44-05:00  Argyle - Thunder 1: TM1 Temp Sensor   \n",
       "2017-07-30 15:49:45-05:00  Argyle - Thunder 1: TM1 Temp Sensor   \n",
       "2017-07-30 15:50:46-05:00  Argyle - Thunder 1: TM1 Temp Sensor   \n",
       "2017-08-01 15:21:33-05:00  Argyle - Thunder 1: TM1 Temp Sensor   \n",
       "2017-08-01 15:22:34-05:00  Argyle - Thunder 1: TM1 Temp Sensor   \n",
       "\n",
       "                          Measurement Description Measurement Type  \\\n",
       "Measurement Time                                                     \n",
       "2017-07-30 15:48:44-05:00         TM1 Temp Sensor      Temperature   \n",
       "2017-07-30 15:49:45-05:00         TM1 Temp Sensor      Temperature   \n",
       "2017-07-30 15:50:46-05:00         TM1 Temp Sensor      Temperature   \n",
       "2017-08-01 15:21:33-05:00         TM1 Temp Sensor      Temperature   \n",
       "2017-08-01 15:22:34-05:00         TM1 Temp Sensor      Temperature   \n",
       "\n",
       "                          Measurement Medium  Measurement Value       Units  \\\n",
       "Measurement Time                                                              \n",
       "2017-07-30 15:48:44-05:00         Atmosphere             3298.0  millivolts   \n",
       "2017-07-30 15:49:45-05:00         Atmosphere             3298.0  millivolts   \n",
       "2017-07-30 15:50:46-05:00         Atmosphere             3298.0  millivolts   \n",
       "2017-08-01 15:21:33-05:00         Atmosphere             3293.0  millivolts   \n",
       "2017-08-01 15:22:34-05:00         Atmosphere             3298.0  millivolts   \n",
       "\n",
       "                          Units Abbreviation Measurement Period Type  \\\n",
       "Measurement Time                                                       \n",
       "2017-07-30 15:48:44-05:00                 mV           Instantaneous   \n",
       "2017-07-30 15:49:45-05:00                 mV           Instantaneous   \n",
       "2017-07-30 15:50:46-05:00                 mV           Instantaneous   \n",
       "2017-08-01 15:21:33-05:00                 mV           Instantaneous   \n",
       "2017-08-01 15:22:34-05:00                 mV           Instantaneous   \n",
       "\n",
       "                           Data Stream ID  Resource ID       Measurement ID  \\\n",
       "Measurement Time                                                              \n",
       "2017-07-30 15:48:44-05:00           39176        73546  2519008530759999999   \n",
       "2017-07-30 15:49:45-05:00           39176        73546  2519008530149999999   \n",
       "2017-07-30 15:50:46-05:00           39176        73546  2519008529539999999   \n",
       "2017-08-01 15:21:33-05:00           39176        73546  2519006819069999999   \n",
       "2017-08-01 15:22:34-05:00           39176        73546  2519006818459999999   \n",
       "\n",
       "                                          Record ID   Latitude  Longitude  \\\n",
       "Measurement Time                                                            \n",
       "2017-07-30 15:48:44-05:00  391762519008530759999999  41.973086 -87.659725   \n",
       "2017-07-30 15:49:45-05:00  391762519008530149999999  41.973086 -87.659725   \n",
       "2017-07-30 15:50:46-05:00  391762519008529539999999  41.973086 -87.659725   \n",
       "2017-08-01 15:21:33-05:00  391762519006819069999999  41.973086 -87.659725   \n",
       "2017-08-01 15:22:34-05:00  391762519006818459999999  41.973086 -87.659725   \n",
       "\n",
       "                                               Location  \n",
       "Measurement Time                                         \n",
       "2017-07-30 15:48:44-05:00  POINT (-87.659725 41.973086)  \n",
       "2017-07-30 15:49:45-05:00  POINT (-87.659725 41.973086)  \n",
       "2017-07-30 15:50:46-05:00  POINT (-87.659725 41.973086)  \n",
       "2017-08-01 15:21:33-05:00  POINT (-87.659725 41.973086)  \n",
       "2017-08-01 15:22:34-05:00  POINT (-87.659725 41.973086)  "
      ]
     },
     "execution_count": 77,
     "metadata": {},
     "output_type": "execute_result"
    }
   ],
   "source": [
    "df.loc[\"2017-07-30 15:45:00\":\"2017-08-01\"].head()"
   ]
  },
  {
   "cell_type": "code",
   "execution_count": 78,
   "metadata": {},
   "outputs": [
    {
     "data": {
      "text/plain": [
       "<Axes: xlabel='Measurement Time'>"
      ]
     },
     "execution_count": 78,
     "metadata": {},
     "output_type": "execute_result"
    },
    {
     "data": {
      "image/png": "[encoded data removed]",
      "text/plain": [
       "<Figure size 640x480 with 1 Axes>"
      ]
     },
     "metadata": {},
     "output_type": "display_data"
    }
   ],
   "source": [
    "df.resample(\"h\").size().plot()"
   ]
  },
  {
   "cell_type": "code",
   "execution_count": 79,
   "metadata": {},
   "outputs": [
    {
     "data": {
      "text/plain": [
       "Measurement Time\n",
       "2017-07-05 15:00:00-05:00    60\n",
       "Freq: h, dtype: int64"
      ]
     },
     "execution_count": 79,
     "metadata": {},
     "output_type": "execute_result"
    }
   ],
   "source": [
    "df.resample(\"h\").size().loc[lambda x: x >= 60]"
   ]
  },
  {
   "cell_type": "code",
   "execution_count": 80,
   "metadata": {},
   "outputs": [
    {
     "data": {
      "text/plain": [
       "Measurement Time\n",
       "2017-06-01 00:00:00-05:00    3295.0\n",
       "2017-06-01 00:01:00-05:00    3295.0\n",
       "2017-06-01 00:02:00-05:00    3295.0\n",
       "2017-06-01 00:03:00-05:00    3295.0\n",
       "2017-06-01 00:04:00-05:00    3295.0\n",
       "                              ...  \n",
       "2017-10-30 23:55:00-05:00    3293.0\n",
       "2017-10-30 23:56:00-05:00    3293.0\n",
       "2017-10-30 23:57:00-05:00       0.0\n",
       "2017-10-30 23:58:00-05:00    3293.0\n",
       "2017-10-30 23:59:00-05:00    3293.0\n",
       "Freq: min, Name: Measurement Value, Length: 218880, dtype: Float64"
      ]
     },
     "execution_count": 80,
     "metadata": {},
     "output_type": "execute_result"
    }
   ],
   "source": [
    "df.resample(\"min\")[\"Measurement Value\"].sum().interpolate()"
   ]
  },
  {
   "cell_type": "code",
   "execution_count": 81,
   "metadata": {},
   "outputs": [
    {
     "data": {
      "text/plain": [
       "Measurement Time\n",
       "2017-06-01 00:00:00-05:00    3295.0\n",
       "2017-06-01 00:01:00-05:00    3295.0\n",
       "2017-06-01 00:02:00-05:00    3295.0\n",
       "2017-06-01 00:03:00-05:00    3295.0\n",
       "2017-06-01 00:04:00-05:00    3295.0\n",
       "                              ...  \n",
       "2017-10-30 23:55:00-05:00    3293.0\n",
       "2017-10-30 23:56:00-05:00    3293.0\n",
       "2017-10-30 23:57:00-05:00    3293.0\n",
       "2017-10-30 23:58:00-05:00    3293.0\n",
       "2017-10-30 23:59:00-05:00    3293.0\n",
       "Freq: min, Name: Measurement Value, Length: 218880, dtype: Float64"
      ]
     },
     "execution_count": 81,
     "metadata": {},
     "output_type": "execute_result"
    }
   ],
   "source": [
    "interpolated = df.resample(\"min\")[\"Measurement Value\"].sum(min_count=1).interpolate()\n",
    "interpolated"
   ]
  },
  {
   "cell_type": "code",
   "execution_count": 82,
   "metadata": {},
   "outputs": [
    {
     "data": {
      "text/plain": [
       "<Axes: xlabel='Measurement Time'>"
      ]
     },
     "execution_count": 82,
     "metadata": {},
     "output_type": "execute_result"
    },
    {
     "data": {
      "image/png": "[encoded data removed]",
      "text/plain": [
       "<Figure size 640x480 with 1 Axes>"
      ]
     },
     "metadata": {},
     "output_type": "display_data"
    }
   ],
   "source": [
    "interpolated.resample(\"h\").size().plot()"
   ]
  },
  {
   "cell_type": "code",
   "execution_count": 83,
   "metadata": {},
   "outputs": [
    {
     "data": {
      "text/plain": [
       "<Axes: xlabel='Measurement Time'>"
      ]
     },
     "execution_count": 83,
     "metadata": {},
     "output_type": "execute_result"
    },
    {
     "data": {
      "image/png": "[encoded data removed]",
      "text/plain": [
       "<Figure size 640x480 with 1 Axes>"
      ]
     },
     "metadata": {},
     "output_type": "display_data"
    }
   ],
   "source": [
    "interpolated.resample(\"D\").sum().plot()"
   ]
  }
 ],
 "metadata": {
  "kernelspec": {
   "display_name": "Pandas-Cookbook-Third-Edition",
   "language": "python",
   "name": "pandas-cookbook-third-edition"
  },
  "language_info": {
   "codemirror_mode": {
    "name": "ipython",
    "version": 3
   },
   "file_extension": ".py",
   "mimetype": "text/x-python",
   "name": "python",
   "nbconvert_exporter": "python",
   "pygments_lexer": "ipython3",
   "version": "3.9.20"
  },
  "org": null
 },
 "nbformat": 4,
 "nbformat_minor": 1
}
