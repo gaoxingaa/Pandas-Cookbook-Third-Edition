{
 "cells": [
  {
   "cell_type": "code",
   "execution_count": null,
   "id": "edafd1f1",
   "metadata": {},
   "outputs": [],
   "source": [
    "# test ak\n",
    "import akshare as ak\n",
    "\n",
    "df = ak.fund_etf_spot_em().order(\"基金折价率\", ascending=False).head(20)\n",
    "\n",
    "df.to_csv(\"./data/etf20.csv\", index=False, encoding=\"utf-8-sig\")\n"
   ]
  }
 ],
 "metadata": {
  "kernelspec": {
   "display_name": "Python (venv)",
   "language": "python",
   "name": "venv"
  },
  "language_info": {
   "name": "python",
   "version": "3.11.0"
  }
 },
 "nbformat": 4,
 "nbformat_minor": 5
}
